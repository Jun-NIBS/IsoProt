{
 "cells": [
  {
   "cell_type": "markdown",
   "metadata": {
    "hideCode": false,
    "hidePrompt": false
   },
   "source": [
    "# Protocol for analysis of labeled proteomics data\n",
    "\n",
    "This is the link to the github repository of the protocol \n",
    "Version: latest (still in development)\n",
    "https://github.com/ProtProtocols/isolabeledprotocol\n",
    "TODO add version!\n",
    "\n",
    "Link to docker image:\n",
    "_docker pull veitveit/isolabeledprotocol:latest_\n",
    "\n",
    "\n",
    "## Abstract\n",
    "Mass spectrometry with peptide labeling for quantification via reporter ions. Workflow based on open-source tools SearchGUI and PeptideShaker as well as in-house R scripts for further analysis using the isobar library for the extraction of reporter ions.\n",
    "\n",
    "\n",
    "## Maintainer\n",
    "Veit Schwämmle, veits@bmb.sdu.dk, github: veitveit\n",
    "Johannes Griss, ...\n",
    "\n",
    "## Software\n",
    "Specify links for documentation and tutorials of used software, source code, publications and use cases. Detail versions of each used software. Alternatively, provide links to the software descriptions in https://bio.tools where this information is available.\n",
    "\n",
    "- SearchGUI: https://bio.tools/searchgui, version 2.8.6\n",
    "- Peptideshaker: https://bio.tools/peptideshaker, version 1.10.3\n",
    "- isobar R library: https://bio.tools/isobar, version 1.24.0\n",
    "\n",
    "## Diagram\n",
    "Provide a simple diagram of functionality of the workflow/software. We recommend using controlled vocabularies for input/output data types and file formats as well as provided operation of the tool(s). You can use http://edamontology.org terms for the description.\n",
    "\n",
    "__TODO: example__\n",
    "\n",
    "## System requirements\n",
    "Fill in the following items:\n",
    "Required hard disk space for docker image, input and output files: Min. 3GB\n",
    "\n",
    "Required memory: Min. 4GB\n",
    "\n",
    "Recommmended number of threads: No requirement\n",
    "\n",
    "## Example \n",
    "Presentation of well-documented instructions and commands to run the example use case. Depending on the use case and the software, provide link(s) to open the web service incorportated in the Docker image (e.g. 0.0.0.0:8080), bash commands to run programs from the command line and additional code for e.g. checking and visualizing the (intermediate) results. \n",
    "\n",
    "Instead of providing the instructions in this notebook, one can also provide a link to a notebook containing the example use case.\n",
    "\n",
    "## More general use case (optional)\n",
    "Provide link to notebook with a generalized use case that easily can be adapted to e.g. process different input data and concurrent parametrization.\n",
    "\n",
    "\n"
   ]
  },
  {
   "cell_type": "markdown",
   "metadata": {
    "hideCode": false,
    "hidePrompt": false
   },
   "source": [
    "# Example use case\n",
    "The example takes the spectra from Test.mgf in the IN folder, searches them againts the human swissprot database and then carries out the quantification in R.\n",
    "\n",
    "_Below a selection of parameters that can be modified directly:_\n"
   ]
  },
  {
   "cell_type": "code",
   "execution_count": 1,
   "metadata": {
    "ExecuteTime": {
     "end_time": "2018-01-23T12:09:55.107679Z",
     "start_time": "2018-01-23T12:09:54.007592Z"
    },
    "hideCode": true,
    "hideOutput": true,
    "hidePrompt": false,
    "hide_input": true,
    "init_cell": true,
    "run_control": {
     "marked": true
    }
   },
   "outputs": [],
   "source": [
    "%load_ext rpy2.ipython\n",
    "\n"
   ]
  },
  {
   "cell_type": "code",
   "execution_count": 2,
   "metadata": {
    "ExecuteTime": {
     "end_time": "2018-01-23T12:09:55.238637Z",
     "start_time": "2018-01-23T12:09:55.109533Z"
    },
    "code_folding": [],
    "hideCode": true,
    "hidePrompt": false,
    "hide_input": true,
    "init_cell": true,
    "run_control": {
     "marked": true
    }
   },
   "outputs": [
    {
     "data": {
      "application/vnd.jupyter.widget-view+json": {
       "model_id": "94b4de7d76fe4fef812853ff8cc11c48",
       "version_major": 2,
       "version_minor": 0
      },
      "text/html": [
       "<p>Failed to display Jupyter Widget of type <code>VBox</code>.</p>\n",
       "<p>\n",
       "  If you're reading this message in the Jupyter Notebook or JupyterLab Notebook, it may mean\n",
       "  that the widgets JavaScript is still loading. If this message persists, it\n",
       "  likely means that the widgets JavaScript library is either not installed or\n",
       "  not enabled. See the <a href=\"https://ipywidgets.readthedocs.io/en/stable/user_install.html\">Jupyter\n",
       "  Widgets Documentation</a> for setup instructions.\n",
       "</p>\n",
       "<p>\n",
       "  If you're reading this message in another frontend (for example, a static\n",
       "  rendering on GitHub or <a href=\"https://nbviewer.jupyter.org/\">NBViewer</a>),\n",
       "  it may mean that your frontend doesn't currently support widgets.\n",
       "</p>\n"
      ],
      "text/plain": [
       "VBox(children=(Label(value='Precursor tolerance (ppm):'), IntSlider(value=20, max=30, min=-10), Label(value='Fragment ion tolerance (da):'), BoundedFloatText(value=0.05, max=200.0), Label(value='Fasta file (database):'), Text(value='IN/sp_human.fasta'), Label(value='Quantification method:'), Dropdown(index=3, options={'iTRAQ8 (fixed)': 'iTRAQ 8-plex of K, iTRAQ 8-plex of peptide N-term', 'iTRAQ4': 'iTRAQ 4-plex of K,iTRAQ 4-plex of Y,iTRAQ 4-plex of peptide N-term', 'iTRAQ8 (variable)': 'iTRAQ 8-plex of Y', 'TMT10': 'TMT 10-plex of K,TMT 10-plex of peptide N-term', 'TMT6': 'TMT 6-plex of K,TMT 6-plex of peptide N-term'}, value='TMT 10-plex of K,TMT 10-plex of peptide N-term'), Label(value='Number of miscleavages;'), IntSlider(value=1, max=10), Label(value='Further fixed modifications'), Dropdown(options=('Carbamidomethylation of C', 'None'), value='Carbamidomethylation of C'), Label(value='Further variable modifications'), Dropdown(options=('None', 'Oxidation of M', 'Phosphorylation of STY'), value='None'), Label(value='Folder for spectra files (files need to be mgf)'), Text(value='IN/')))"
      ]
     },
     "metadata": {},
     "output_type": "display_data"
    }
   ],
   "source": [
    "import ipywidgets as widgets\n",
    "from ipywidgets import VBox, Label\n",
    "\n",
    "w = widgets.IntSlider(min=-10,max=30,step=1,value=20)\n",
    "w2 = widgets.BoundedFloatText(min=0,max=200,value=0.05)\n",
    "w3 = widgets.Text(\"IN/sp_human.fasta\")\n",
    "# TODO  needs table to describe labeling formats\n",
    "w4 = widgets.Dropdown(options={'TMT6': 'TMT 6-plex of K,TMT 6-plex of peptide N-term',\n",
    "                               'TMT10': 'TMT 10-plex of K,TMT 10-plex of peptide N-term','iTRAQ4': 'iTRAQ 4-plex of K,iTRAQ 4-plex of Y,iTRAQ 4-plex of peptide N-term',\n",
    "                               'iTRAQ8 (fixed)': 'iTRAQ 8-plex of K, iTRAQ 8-plex of peptide N-term',\n",
    "                               'iTRAQ8 (variable)': 'iTRAQ 8-plex of Y'},value='TMT 10-plex of K,TMT 10-plex of peptide N-term')\n",
    "w5= widgets.IntSlider(min=0,max=10,step=1,value=1)\n",
    "w6 = widgets.Dropdown(options=[\"Carbamidomethylation of C\",\"None\"])\n",
    "w7 = widgets.Dropdown(options=[\"None\",\"Oxidation of M\",\"Phosphorylation of STY\"])\n",
    "w8 = widgets.Text(\"IN/\")\n",
    "\n",
    "ww = widgets.Checkbox(description=\"Decoy\")\n",
    "\n",
    "display(VBox([Label('Precursor tolerance (ppm):'), w, \n",
    "              Label('Fragment ion tolerance (da):'),w2,\n",
    "             Label('Fasta file (database):'),w3,\n",
    "             Label('Quantification method:'),w4,\n",
    "             Label('Number of miscleavages;'),w5,\n",
    "             Label('Further fixed modifications'),w6,\n",
    "             Label('Further variable modifications'),w7,\n",
    "             Label('Folder for spectra files (files need to be mgf)'),w8]))\n",
    "\n",
    "#TODO set names of samples and replicates (peptideshaker)\n"
   ]
  },
  {
   "cell_type": "code",
   "execution_count": 3,
   "metadata": {
    "hideCode": false,
    "hidePrompt": false
   },
   "outputs": [
    {
     "name": "stdout",
     "output_type": "stream",
     "text": [
      "Reindexing: sp_human.fasta.\n",
      "10% 20% 30% 40% 50% 60% 70% 80% 90%Input: /home/biodocker/OUT/../IN/sp_human.fasta\n",
      "\n",
      "Name: sp_human\n",
      "Version: 23.1.2018\n",
      "Decoy Tag: null\n",
      "Type: UniProt\n",
      "Last modified: Tue Jan 23 08:00:09 UTC 2018\n",
      "Size: 20243 sequences\n",
      "\n",
      "\n",
      "Tue Jan 23 08:10:16 UTC 2018 Appending Decoy Sequences. Please Wait...\n",
      "10% 20% 30% 40% 50% 60% 70% 80% 90% 100%Reindexing: sp_human_concatenated_target_decoy.fasta.\n",
      "\n",
      "10% 20% 30% 40% 50% 60% 70% 80% 90%Decoy file successfully created: \n",
      "\n",
      "Output: /home/biodocker/OUT/../IN/sp_human_concatenated_target_decoy.fasta\n",
      "\n",
      "Name: sp_human_concatenated_target_decoy\n",
      "Version: 23.1.2018\n",
      "Decoy Tag: REVERSED\n",
      "Type: UniProt\n",
      "Last modified: Tue Jan 23 08:10:21 UTC 2018\n",
      "Size: 40486 sequences (20243 target)\n",
      "\n",
      "../IN/sp_human_concatenated_target_decoy.fasta\n",
      "\n",
      "Identification parameters file created: /home/biodocker/OUT/search.par\n",
      "\n"
     ]
    }
   ],
   "source": [
    "%%bash -s \"$w.value\" \"$w2.value\" \"$w3.value\" \"$w4.value\" \"$w5.value\" \"$w6.value\" \"$w7.value\" \"$w7.value\"\n",
    "function check_error {\n",
    "    RETURN_CODE=\"$1\"\n",
    "    MSG=\"$2\"\n",
    "\n",
    "    if [ \"${RETURN_CODE}\" != \"0\" ]; then\n",
    "        echo \"Error: $MSG\"\n",
    "        exit 1\n",
    "    fi\n",
    "}\n",
    "cd OUT\n",
    "java -cp /home/biodocker/bin/SearchGUI-*/SearchGUI-*.jar eu.isas.searchgui.cmd.FastaCLI -in \"../$3\" -decoy\n",
    "\n",
    "check_error $? \"Failed to create decoy database\"\n",
    "\n",
    "DECOY_FASTA=\"../${3%.*}_concatenated_target_decoy.fasta\"\n",
    "echo $DECOY_FASTA\n",
    "\n",
    "if [ ! -e ${DECOY_FASTA} ]; then\n",
    "    echo \"Failed to create decoy database\"\n",
    "    exit 1\n",
    "fi\n",
    "\n",
    "VAR_MODS=\"\"\n",
    "if [ $7 != \"None\" ]; then\n",
    "    VAR_MODS=\"-variable_mods $7\"\n",
    "fi\n",
    "\n",
    "# ---- create parameter file for SearchGUI ----\n",
    "java -cp /home/biodocker/bin/SearchGUI-*/SearchGUI-*.jar \\\n",
    "eu.isas.searchgui.cmd.IdentificationParametersCLI -prec_tol $1 -frag_tol $2 \\\n",
    "-fixed_mods \"$4,$6\"  $VAR_MODS  -db \"${DECOY_FASTA}\" -out search.par -mc $5\n",
    "\n",
    "check_error $? \"Failed to create parameter file\"\n",
    "\n",
    "if [ ! -e \"search.par\" ]; then\n",
    "    echo \"Failed to create search parameters\"\n",
    "    exit 1\n",
    "fi\n",
    "\n"
   ]
  },
  {
   "cell_type": "code",
   "execution_count": 4,
   "metadata": {
    "hideCode": false,
    "hidePrompt": false,
    "scrolled": true
   },
   "outputs": [
    {
     "name": "stdout",
     "output_type": "stream",
     "text": [
      "sp_human.fasta sp_human.fasta.cui sp_human_concatenated_target_decoy.fasta sp_human_concatenated_target_decoy.fasta.cui test.mgf\n",
      "Tue Jan 23 08:10:38 UTC 2018 Validating MGF file: /home/biodocker/OUT/../IN/test.mgf\n",
      "10% 20% 30% 40% 50% 60% 70% 80% 90%\n",
      "\n",
      "Tue Jan 23 08:10:45 UTC 2018 Indexing spectrum files.\n",
      "Tue Jan 23 08:10:45 UTC 2018 Extracting search settings.\n",
      "\n",
      "\n",
      "\n",
      "Processing: test.mgf (1/1)\n",
      "\n",
      "\n",
      "ms-gf+ command: \n",
      "/usr/lib/jvm/java-8-openjdk-amd64/jre/bin/java -jar /home/biodocker/bin/SearchGUI-2.8.6/resources/MS-GF+/MSGFPlus.jar -s /home/biodocker/OUT/../IN/test.mgf -d /home/biodocker/OUT/../IN/sp_human_concatenated_target_decoy.fasta -o /home/biodocker/OUT/./.SearchGUI_temp/test.msgf.mzid -t 20.0ppm -tda 0 -mod /home/biodocker/bin/SearchGUI-2.8.6/resources/MS-GF+/params/Mods.txt -minCharge 2 -maxCharge 4 -inst 3 -thread 1 -m 3 -e 1 -ntt 2 -protocol 0 -minLength 8 -maxLength 30 -n 10 -addFeatures 0 -ti 0,1 \n",
      "\n",
      "Tue Jan 23 08:10:45 UTC 2018 Processing test.mgf with MS-GF+.\n",
      "\n",
      "MS-GF+ Beta (v10282) (12/19/2014)\n",
      "Loading database files...\n",
      "Creating the suffix array indexed file... Size: 22715273\n",
      "AlphabetSize: 28\n",
      "Suffix creation: 0.00% complete.\n",
      "Suffix creation: 44.02% complete.\n",
      "Suffix creation: 88.05% complete.\n",
      "Sorting 0.00% complete.\n",
      "Sorting 5.81% complete.\n",
      "Sorting 11.62% complete.\n",
      "Sorting 17.43% complete.\n",
      "Sorting 23.24% complete.\n",
      "Sorting 29.05% complete.\n",
      "Sorting 34.86% complete.\n",
      "Sorting 40.67% complete.\n",
      "Sorting 46.48% complete.\n",
      "Sorting 52.29% complete.\n",
      "Sorting 58.10% complete.\n",
      "Sorting 63.91% complete.\n",
      "Sorting 69.73% complete.\n",
      "Sorting 75.54% complete.\n",
      "Sorting 81.35% complete.\n",
      "Sorting 87.16% complete.\n",
      "Sorting 92.97% complete.\n",
      "Sorting 98.78% complete.\n",
      "Loading database finished (elapsed time: 81.29 sec)\n",
      "Reading spectra...\n",
      "Ignoring 0 profile spectra.\n",
      "Ignoring 0 spectra having less than 10 peaks.\n",
      "Reading spectra finished (elapsed time: 85.49 sec)\n",
      "Using 1 thread.\n",
      "Search Parameters:\n",
      "\tPrecursorMassTolerance: 20.0ppm\n",
      "\tIsotopeError: 0,1\n",
      "\tTargetDecoyAnalysis: false\n",
      "\tFragmentationMethod: HCD\n",
      "\tInstrument: QExactive\n",
      "\tEnzyme: Tryp\n",
      "\tProtocol: TMT\n",
      "\tNumTolerableTermini: 2\n",
      "\tMinPeptideLength: 8\n",
      "\tMaxPeptideLength: 30\n",
      "\tNumMatchesPerSpec: 10\n",
      "Spectrum 0-1503 (total: 1504)\n",
      "pool-1-thread-1: Preprocessing spectra...\n",
      "Loading built-in param file: HCD_QExactive_Tryp_TMT.param\n",
      "pool-1-thread-1: Preprocessing spectra finished (elapsed time: 27.00 sec)\n",
      "pool-1-thread-1: Database search...\n",
      "pool-1-thread-1: Database search progress... 0.0% complete\n",
      "pool-1-thread-1: Database search progress... 8.8% complete\n",
      "pool-1-thread-1: Database search progress... 17.6% complete\n",
      "pool-1-thread-1: Database search progress... 26.4% complete\n",
      "pool-1-thread-1: Database search progress... 35.2% complete\n",
      "pool-1-thread-1: Database search progress... 44.0% complete\n",
      "pool-1-thread-1: Database search progress... 52.8% complete\n",
      "pool-1-thread-1: Database search progress... 61.6% complete\n",
      "pool-1-thread-1: Database search progress... 70.4% complete\n",
      "pool-1-thread-1: Database search progress... 79.2% complete\n",
      "pool-1-thread-1: Database search progress... 88.0% complete\n",
      "pool-1-thread-1: Database search progress... 96.9% complete\n",
      "pool-1-thread-1: Database search finished (elapsed time: 145.00 sec)\n",
      "pool-1-thread-1: Computing spectral E-values...\n",
      "pool-1-thread-1: Computing spectral E-values... 66.5% complete\n",
      "pool-1-thread-1: Computing spectral E-values finished (elapsed time: 74.00 sec)\n",
      "Writing results...\n",
      "Writing results finished (elapsed time: 12.47 sec)\n",
      "MS-GF+ complete (total elapsed time: 346.14 sec)\n",
      "\n",
      "\n",
      "Tue Jan 23 08:16:32 UTC 2018 MS-GF+ finished for /home/biodocker/OUT/../IN/test.mgf (5 minutes 46 seconds).\n",
      "\n",
      "Tue Jan 23 08:16:32 UTC 2018 Zipping output files.\n",
      "\n",
      "10% 20% 30% 40% 50% 60% 70% 80% 90%\n",
      "Tue Jan 23 08:16:32 UTC 2018 Search Completed (5 minutes 47 seconds).\n",
      "\n",
      "\n",
      "\n",
      "Search Completed.\n",
      "\n"
     ]
    }
   ],
   "source": [
    "%%bash -s \"$w8.value\"\n",
    "function check_error {\n",
    "    RETURN_CODE=\"$1\"\n",
    "    MSG=\"$2\"\n",
    "\n",
    "    if [ \"${RETURN_CODE}\" != \"0\" ]; then\n",
    "        echo \"Error: $MSG\"\n",
    "        exit 1\n",
    "    fi\n",
    "}\n",
    "FILE_LIST=$(ls $1)\n",
    "echo $FILE_LIST\n",
    "cd OUT\n",
    "\n",
    "# Run Search\n",
    "java -cp /home/biodocker/bin/SearchGUI-*/SearchGUI-*.jar eu.isas.searchgui.cmd.SearchCLI \\\n",
    "-spectrum_files ../$1  -output_folder ./  -id_params search.par -xtandem 0 -msgf 1 \\\n",
    "-comet 0 -ms_amanda 0 -myrimatch 0 -andromeda 0 -omssa 0 -tide 0\n",
    "check_error $? \"Search failed.\"\n"
   ]
  },
  {
   "cell_type": "code",
   "execution_count": 5,
   "metadata": {
    "hideCode": false,
    "hidePrompt": false,
    "scrolled": true
   },
   "outputs": [],
   "source": [
    "#TODO, some visualizations + numbers (e.g. number of spectra, ...)"
   ]
  },
  {
   "cell_type": "code",
   "execution_count": 3,
   "metadata": {
    "ExecuteTime": {
     "end_time": "2018-01-23T12:22:04.682280Z",
     "start_time": "2018-01-23T12:15:42.632029Z"
    },
    "hideCode": false,
    "hidePrompt": false
   },
   "outputs": [
    {
     "name": "stdout",
     "output_type": "stream",
     "text": [
      "SearchGUI Report 2018-01-23 08.16.32.html\n",
      "derby.log\n",
      "hs_err_pid82.log\n",
      "resources\n",
      "search.par\n",
      "searchgui_out.zip\n",
      "Tue Jan 23 12:15:45 UTC 2018 Unzipping searchgui_out.zip.\n",
      "10% 20% 30% 40% 50% 60% 70% 80% 90% 100%\n",
      "\n",
      "Tue Jan 23 12:15:45 UTC 2018 Import process for experiment1 (Sample: test, Replicate: 1)\n",
      "\n",
      "Tue Jan 23 12:15:46 UTC 2018 Importing sequences from sp_human_concatenated_target_decoy.fasta.\n",
      "Tue Jan 23 12:15:57 UTC 2018 Estimated import time: 5 minutes.\n",
      "Tue Jan 23 12:15:57 UTC 2018     See http://compomics.github.io/compomics-utilities/wiki/proteininference.html.\n",
      "10% 20% 30% 40% 50%\n",
      "Tue Jan 23 12:21:29 UTC 2018 FASTA file import completed.\n",
      "Tue Jan 23 12:21:29 UTC 2018 Importing gene mappings.\n",
      "Tue Jan 23 12:21:30 UTC 2018 Establishing local database connection.\n",
      "Tue Jan 23 12:21:35 UTC 2018 Reading identification files.\n",
      "Tue Jan 23 12:21:35 UTC 2018 Parsing test.msgf.mzid.\n",
      "10% 20% 30% 40% 50% 60% 70% 80% 90% 100%\n",
      "Tue Jan 23 12:21:35 UTC 2018 Loading spectra for test.msgf.mzid.\n",
      "Tue Jan 23 12:21:35 UTC 2018 Importing test.mgf\n",
      "Tue Jan 23 12:21:35 UTC 2018 test.mgf imported.\n",
      "10% 20% 30% 40% 50% 60% 70% 80% 90%\n",
      "Tue Jan 23 12:21:35 UTC 2018 Collecting peptides to map.\n",
      "10% 20% 30% 40% 50% 60% 70% 80% 90% 100%\n",
      "Tue Jan 23 12:21:35 UTC 2018 Mapping peptides to proteins.\n",
      "10% 20% 30% 40% 50% 60% 70% 80% 90% 100%\n",
      "Tue Jan 23 12:21:41 UTC 2018 Importing PSMs from test.msgf.mzid\n",
      "10% 20% 30% 40% 50% 60% 70% 80% 90% 100%\n",
      "Tue Jan 23 12:21:42 UTC 2018 2 identified spectra (0.4%) did not present a valid peptide.\n",
      "Tue Jan 23 12:21:42 UTC 2018 6 of the best scoring peptides were excluded by the import filters:\n",
      "Tue Jan 23 12:21:42 UTC 2018     - 83.3% peptide mapping to both target and decoy.\n",
      "Tue Jan 23 12:21:42 UTC 2018     - 16.7% peptide presenting high mass or isotopic deviation.\n",
      "Tue Jan 23 12:21:42 UTC 2018 File import completed. 447 first hits imported (3714 secondary) from 1504 spectra.\n",
      "Tue Jan 23 12:21:42 UTC 2018 [445 first hits passed the initial filtering]\n",
      "Tue Jan 23 12:21:42 UTC 2018 Computing assumptions probabilities.\n",
      "10% 20% 30% 40% 50% 60% 70% 80% 90% 100% 110% 120% 130% 140% 150% 160% 170% 180% 190% 200%\n",
      "Tue Jan 23 12:21:42 UTC 2018 Saving assumptions probabilities.\n",
      "10% 20% 30% 40% 50% 60% 70% 80% 90%\n",
      "Tue Jan 23 12:21:42 UTC 2018 Selecting best peptide per spectrum.\n",
      "10% 20% 30% 40% 50% 60% 70% 80% 90%\n",
      "Tue Jan 23 12:21:42 UTC 2018 Computing PSM probabilities.\n",
      "10% 20% 30% 40%\n",
      "Tue Jan 23 12:21:42 UTC 2018 Scoring PTMs in PSMs (D-score and PhosphoRS)\n",
      "Tue Jan 23 12:21:42 UTC 2018 Scoring PSM PTMs. Please Wait...\n",
      "10% 20% 30% 40% 50% 60% 70% 80% 90%\n",
      "Tue Jan 23 12:21:42 UTC 2018 Resolving peptide inference issues.\n",
      "Tue Jan 23 12:21:42 UTC 2018 Peptide Inference. Please Wait...\n",
      "10% 20% 30% 40% 50% 60% 70% 80% 90%\n",
      "Tue Jan 23 12:21:42 UTC 2018 Saving probabilities, building peptides and proteins.\n",
      "Tue Jan 23 12:21:42 UTC 2018 Attaching Spectrum Probabilities - Building Peptides and Proteins. Please Wait...\n",
      "10% 20% 30% 40% 50% 60% 70% 80% 90%\n",
      "Tue Jan 23 12:21:42 UTC 2018 Simplifying protein groups.\n",
      "Tue Jan 23 12:21:42 UTC 2018 Symplifying Protein Groups. Please Wait...\n",
      "Tue Jan 23 12:21:42 UTC 2018 Generating peptide map.\n",
      "Tue Jan 23 12:21:42 UTC 2018 Filling Peptide Maps. Please Wait...\n",
      "10% 20% 30% 40%\n",
      "Tue Jan 23 12:21:43 UTC 2018 Computing peptide probabilities.\n",
      "Tue Jan 23 12:21:43 UTC 2018 Estimating Probabilities. Please Wait...\n",
      "10% 20% 30% 50% 60% 70% 80% 100% 110%\n",
      "Tue Jan 23 12:21:43 UTC 2018 Saving peptide probabilities.\n",
      "Tue Jan 23 12:21:43 UTC 2018 Attaching Peptide Probabilities. Please Wait...\n",
      "10% 20% 30% 40% 50% 60% 70% 80% 90%\n",
      "Tue Jan 23 12:21:43 UTC 2018 Generating protein map.\n",
      "Tue Jan 23 12:21:43 UTC 2018 Filling Protein Map. Please Wait...\n",
      "10% 20% 30% 40% 50% 60% 70% 80% 90%\n",
      "Tue Jan 23 12:21:43 UTC 2018 Resolving protein inference issues, inferring peptide and protein PI status.\n",
      "Tue Jan 23 12:21:43 UTC 2018 Simplifying Redundant Protein Groups. Please Wait...\n",
      "10% 20% 30% 50%\n",
      "Tue Jan 23 12:21:43 UTC 2018 12 conflicts resolved. 16 protein groups remaining (4 suspicious).\n",
      "Tue Jan 23 12:21:43 UTC 2018 Correcting protein probabilities.\n",
      "Tue Jan 23 12:21:43 UTC 2018 Estimating Probabilities. Please Wait...\n",
      "10% 60% 100%\n",
      "Tue Jan 23 12:21:43 UTC 2018 Saving protein probabilities.\n",
      "Tue Jan 23 12:21:43 UTC 2018 Attaching Protein Probabilities. Please Wait...\n",
      "10% 20% 30% 40% 50% 60% 70% 80% 90%\n",
      "Tue Jan 23 12:21:43 UTC 2018 Validating identifications at 1% FDR, quality control of matches.\n",
      "Tue Jan 23 12:21:43 UTC 2018 Finding FDR Thresholds. Please Wait...\n",
      "10% 60% 100% 130%\n",
      "Tue Jan 23 12:21:43 UTC 2018 Match Validation and Quality Control. Please Wait...\n",
      "10% 20% 30% 40% 50% 60% 70% 80% 90% 100%\n",
      "Tue Jan 23 12:21:43 UTC 2018 Scoring PTMs in peptides.\n",
      "Tue Jan 23 12:21:43 UTC 2018 Scoring Peptide PTMs. Please Wait...\n",
      "10% 20% 30% 40% 50% 60% 70% 80% 90%\n",
      "Tue Jan 23 12:21:43 UTC 2018 Scoring PTMs in proteins.\n",
      "Tue Jan 23 12:21:43 UTC 2018 Scoring Protein PTMs. Please Wait...\n",
      "10% 20% 30% 40% 50% 60% 70% 80% 90%\n",
      "Tue Jan 23 12:21:43 UTC 2018 Identification processing completed (5 minutes 57 seconds).\n",
      "\n",
      "\n",
      "Tue Jan 23 12:21:43 UTC 2018 Project successfully created.\n",
      "Tue Jan 23 12:21:43 UTC 2018 Saving results.\n",
      "10% 20% 30% 40% 50% 60% 70% 80% 90%\n",
      "Tue Jan 23 12:21:56 UTC 2018 Results saved to /home/biodocker/OUT/./experiment.cpsx.\n",
      "\n",
      "\n",
      "Tue Jan 23 12:21:58 UTC 2018 PeptideShaker process completed.\n",
      "Tue Jan 23 12:21:58 UTC 2018 Processing Completed.\n",
      "10% 20% 30% 40% 80% 90%\n",
      "Tue Jan 23 12:22:03 UTC 2018 Protein database sp_human_concatenated_target_decoy.fasta.\n",
      "Tue Jan 23 12:22:03 UTC 2018 Spectrum file(s) successfully loaded.\n",
      "Tue Jan 23 12:22:03 UTC 2018 Exporting. Please Wait...\n",
      "10% 20% 30% 40% 50% 60% 70% 80% 90% 100%\n",
      "Tue Jan 23 12:22:04 UTC 2018 Report export completed.\n"
     ]
    },
    {
     "name": "stderr",
     "output_type": "stream",
     "text": [
      "java.lang.IllegalArgumentException: Database import was not successfully completed. Database will be reindexed.\n",
      "\tat com.compomics.util.experiment.identification.protein_inference.proteintree.ProteinTree.initiateTree(ProteinTree.java:258)\n",
      "\tat com.compomics.util.experiment.identification.protein_inference.proteintree.ProteinTree.initiateTree(ProteinTree.java:205)\n",
      "\tat com.compomics.util.experiment.identification.protein_sequences.SequenceFactory.getDefaultPeptideMapper(SequenceFactory.java:1391)\n",
      "\tat com.compomics.util.experiment.identification.protein_sequences.SequenceFactory.getDefaultPeptideMapper(SequenceFactory.java:1313)\n",
      "\tat eu.isas.peptideshaker.fileimport.FileImporter.importSequences(FileImporter.java:210)\n",
      "\tat eu.isas.peptideshaker.fileimport.FileImporter$IdProcessorFromFile.importFiles(FileImporter.java:448)\n",
      "\tat eu.isas.peptideshaker.fileimport.FileImporter.importFiles(FileImporter.java:156)\n",
      "\tat eu.isas.peptideshaker.PeptideShaker.importFiles(PeptideShaker.java:232)\n",
      "\tat eu.isas.peptideshaker.cmd.PeptideShakerCLI.createProject(PeptideShakerCLI.java:696)\n",
      "\tat eu.isas.peptideshaker.cmd.PeptideShakerCLI.call(PeptideShakerCLI.java:205)\n",
      "\tat eu.isas.peptideshaker.cmd.PeptideShakerCLI.main(PeptideShakerCLI.java:908)\n",
      "java.sql.SQLNonTransientConnectionException: No current connection.\n",
      "\tat org.apache.derby.impl.jdbc.SQLExceptionFactory40.getSQLException(Unknown Source)\n",
      "\tat org.apache.derby.impl.jdbc.Util.newEmbedSQLException(Unknown Source)\n",
      "\tat org.apache.derby.impl.jdbc.Util.newEmbedSQLException(Unknown Source)\n",
      "\tat org.apache.derby.impl.jdbc.Util.noCurrentConnection(Unknown Source)\n",
      "\tat org.apache.derby.impl.jdbc.EmbedConnection.checkIfClosed(Unknown Source)\n",
      "\tat org.apache.derby.impl.jdbc.EmbedConnection.createStatement(Unknown Source)\n",
      "\tat org.apache.derby.impl.jdbc.EmbedConnection.createStatement(Unknown Source)\n",
      "\tat com.compomics.util.db.ObjectsDB.retrieveObjectSynchronized(ObjectsDB.java:795)\n",
      "\tat com.compomics.util.db.ObjectsDB.retrieveObject(ObjectsDB.java:747)\n",
      "\tat com.compomics.util.db.ObjectsDB.retrieveObject(ObjectsDB.java:709)\n",
      "\tat com.compomics.util.experiment.identification.protein_inference.proteintree.ProteinTreeComponentsFactory.isCorrupted(ProteinTreeComponentsFactory.java:366)\n",
      "\tat com.compomics.util.experiment.identification.protein_inference.proteintree.ProteinTreeComponentsFactory.delete(ProteinTreeComponentsFactory.java:141)\n",
      "\tat com.compomics.util.experiment.identification.protein_inference.proteintree.ProteinTree.initiateTree(ProteinTree.java:272)\n",
      "\tat com.compomics.util.experiment.identification.protein_inference.proteintree.ProteinTree.initiateTree(ProteinTree.java:205)\n",
      "\tat com.compomics.util.experiment.identification.protein_sequences.SequenceFactory.getDefaultPeptideMapper(SequenceFactory.java:1391)\n",
      "\tat com.compomics.util.experiment.identification.protein_sequences.SequenceFactory.getDefaultPeptideMapper(SequenceFactory.java:1313)\n",
      "\tat eu.isas.peptideshaker.fileimport.FileImporter.importSequences(FileImporter.java:210)\n",
      "\tat eu.isas.peptideshaker.fileimport.FileImporter$IdProcessorFromFile.importFiles(FileImporter.java:448)\n",
      "\tat eu.isas.peptideshaker.fileimport.FileImporter.importFiles(FileImporter.java:156)\n",
      "\tat eu.isas.peptideshaker.PeptideShaker.importFiles(PeptideShaker.java:232)\n",
      "\tat eu.isas.peptideshaker.cmd.PeptideShakerCLI.createProject(PeptideShakerCLI.java:696)\n",
      "\tat eu.isas.peptideshaker.cmd.PeptideShakerCLI.call(PeptideShakerCLI.java:205)\n",
      "\tat eu.isas.peptideshaker.cmd.PeptideShakerCLI.main(PeptideShakerCLI.java:908)\n",
      "Caused by: java.sql.SQLException: No current connection.\n",
      "\tat org.apache.derby.impl.jdbc.SQLExceptionFactory.getSQLException(Unknown Source)\n",
      "\tat org.apache.derby.impl.jdbc.SQLExceptionFactory40.wrapArgsForTransportAcrossDRDA(Unknown Source)\n",
      "\t... 23 more\n",
      "java.sql.SQLNonTransientConnectionException: No current connection.\n",
      "\tat org.apache.derby.impl.jdbc.SQLExceptionFactory40.getSQLException(Unknown Source)\n",
      "\tat org.apache.derby.impl.jdbc.Util.newEmbedSQLException(Unknown Source)\n",
      "\tat org.apache.derby.impl.jdbc.Util.newEmbedSQLException(Unknown Source)\n",
      "\tat org.apache.derby.impl.jdbc.Util.noCurrentConnection(Unknown Source)\n",
      "\tat org.apache.derby.impl.jdbc.EmbedConnection.checkIfClosed(Unknown Source)\n",
      "\tat org.apache.derby.impl.jdbc.EmbedConnection.getMetaData(Unknown Source)\n",
      "\tat com.compomics.util.db.ObjectsDB.getTables(ObjectsDB.java:250)\n",
      "\tat com.compomics.util.db.ObjectsDB.hasTable(ObjectsDB.java:229)\n",
      "\tat com.compomics.util.db.ObjectsDB.saveLongKeys(ObjectsDB.java:1187)\n",
      "\tat com.compomics.util.db.ObjectsDB.close(ObjectsDB.java:1226)\n",
      "\tat com.compomics.util.experiment.identification.protein_inference.proteintree.ProteinTreeComponentsFactory.close(ProteinTreeComponentsFactory.java:170)\n",
      "\tat com.compomics.util.experiment.identification.protein_inference.proteintree.ProteinTreeComponentsFactory.delete(ProteinTreeComponentsFactory.java:148)\n",
      "\tat com.compomics.util.experiment.identification.protein_inference.proteintree.ProteinTree.initiateTree(ProteinTree.java:272)\n",
      "\tat com.compomics.util.experiment.identification.protein_inference.proteintree.ProteinTree.initiateTree(ProteinTree.java:205)\n",
      "\tat com.compomics.util.experiment.identification.protein_sequences.SequenceFactory.getDefaultPeptideMapper(SequenceFactory.java:1391)\n",
      "\tat com.compomics.util.experiment.identification.protein_sequences.SequenceFactory.getDefaultPeptideMapper(SequenceFactory.java:1313)\n",
      "\tat eu.isas.peptideshaker.fileimport.FileImporter.importSequences(FileImporter.java:210)\n",
      "\tat eu.isas.peptideshaker.fileimport.FileImporter$IdProcessorFromFile.importFiles(FileImporter.java:448)\n",
      "\tat eu.isas.peptideshaker.fileimport.FileImporter.importFiles(FileImporter.java:156)\n",
      "\tat eu.isas.peptideshaker.PeptideShaker.importFiles(PeptideShaker.java:232)\n",
      "\tat eu.isas.peptideshaker.cmd.PeptideShakerCLI.createProject(PeptideShakerCLI.java:696)\n",
      "\tat eu.isas.peptideshaker.cmd.PeptideShakerCLI.call(PeptideShakerCLI.java:205)\n",
      "\tat eu.isas.peptideshaker.cmd.PeptideShakerCLI.main(PeptideShakerCLI.java:908)\n",
      "Caused by: java.sql.SQLException: No current connection.\n",
      "\tat org.apache.derby.impl.jdbc.SQLExceptionFactory.getSQLException(Unknown Source)\n",
      "\tat org.apache.derby.impl.jdbc.SQLExceptionFactory40.wrapArgsForTransportAcrossDRDA(Unknown Source)\n",
      "\t... 23 more\n"
     ]
    }
   ],
   "source": [
    "%%bash -s \"$w8.value\"\n",
    "function check_error {\n",
    "    RETURN_CODE=\"$1\"\n",
    "    MSG=\"$2\"\n",
    "\n",
    "    if [ \"${RETURN_CODE}\" != \"0\" ]; then\n",
    "        echo \"Error: $MSG\"\n",
    "        exit 1\n",
    "    fi\n",
    "}\n",
    "\n",
    "cd OUT\n",
    "ls\n",
    "\n",
    "# ---- PeptideShaker ----\n",
    "java -Xmx4G  -cp /home/biodocker/bin/PeptideShaker-*/PeptideShaker-*.jar \\\n",
    "eu.isas.peptideshaker.cmd.PeptideShakerCLI -experiment experiment1 \\\n",
    "-sample test -replicate 1 -identification_files './'  -out ./experiment.cpsx \\\n",
    "-id_params search.par -spectrum_files  \"../$1\"\n",
    "\n",
    "check_error $? \"Failed to run PeptideShaker\"\n",
    "\n",
    "java -cp /home/biodocker/bin/PeptideShaker-*/PeptideShaker-*.jar \\\n",
    "eu.isas.peptideshaker.cmd.ReportCLI -in \"experiment.cpsx\" -out_reports \"./\" -reports \"8\"\n"
   ]
  },
  {
   "cell_type": "code",
   "execution_count": 32,
   "metadata": {
    "ExecuteTime": {
     "end_time": "2018-01-23T13:53:12.582615Z",
     "start_time": "2018-01-23T13:53:11.757410Z"
    },
    "hideCode": false,
    "hidePrompt": false
   },
   "outputs": [
    {
     "data": {
      "text/plain": [
       "[1] \"Loaded 445 PSMs\"\n",
       "[1] \"Filtered 11 PSMs @ 0.01 FDR\"\n",
       "  reading id file t.corr.csv [type: ibspectra] ... done\n",
       "  reading mgf file IN/test.mgf [fragment precision: 0.05]\n",
       "  1504 spectra in MGF file.\n",
       " data.frame columns OK\n",
       "Creating ProteinGroup ... done\n",
       " for 565 spectra [98.09%], quantitative information is available,\n",
       "   but no peptide-spectrum match. Spectrum titles: \n",
       "\t20170424_Lumos_RSLC3_Maurer_Hartl_UW_MFPL_shotgun_TMT1_global_Fr10.27.2,\n",
       "\t20170424_Lumos_RSLC3_Maurer_Hartl_UW_MFPL_shotgun_TMT1_global_Fr10.29.4, ...\n",
       "LOG: isotopeImpurities.corrected: TRUE\n",
       "LOG: is.normalized: TRUE\n",
       "\tnormalizing test.mgf [11 spectra]\n",
       "LOG: normalization.multiplicative.factor file test.mgf channel 126: 0.7966\n",
       "LOG: normalization.multiplicative.factor file test.mgf channel 127N: 0.7722\n",
       "LOG: normalization.multiplicative.factor file test.mgf channel 127C: 0.6192\n",
       "LOG: normalization.multiplicative.factor file test.mgf channel 128N: 0.8455\n",
       "LOG: normalization.multiplicative.factor file test.mgf channel 128C: 0.3353\n",
       "LOG: normalization.multiplicative.factor file test.mgf channel 129N: 0.3499\n",
       "LOG: normalization.multiplicative.factor file test.mgf channel 129C: 0.5315\n",
       "LOG: normalization.multiplicative.factor file test.mgf channel 130N: 0.7885\n",
       "LOG: normalization.multiplicative.factor file test.mgf channel 130C: 0.7267\n",
       "LOG: normalization.multiplicative.factor file test.mgf channel 131N: 1\n",
       "[1] 1.119711e-01 1.088326e+11 9.746776e+00\n",
       "ratios 127N vs 126\n",
       "ratios 127C vs 126\n",
       "ratios 128N vs 126\n",
       "ratios 128C vs 126\n",
       "ratios 129N vs 126\n",
       "ratios 129C vs 126\n",
       "ratios 130N vs 126\n",
       "ratios 130C vs 126\n",
       "ratios 131N vs 126\n",
       "ratios 127N vs 126\n",
       "ratios 127C vs 126\n",
       "ratios 128N vs 126\n",
       "ratios 128C vs 126\n",
       "ratios 129N vs 126\n",
       "ratios 129C vs 126\n",
       "ratios 130N vs 126\n",
       "ratios 130C vs 126\n",
       "ratios 131N vs 126\n",
       "         lratio   variance   var_hat_vk n.spectra n.na1 n.na2  p.value.rat\n",
       "10 -0.147712799 0.04399206          Inf         1     0     0 0.2406364595\n",
       "1   0.068462442 0.03820398          Inf         1     0     0 0.3630695039\n",
       "28 -0.084676721 0.09698014          Inf         1     0     0 0.3928462269\n",
       "19  0.147010211 0.03801883          Inf         1     0     0 0.2254367243\n",
       "46  0.114128569 0.03878260          Inf         1     0     0 0.2811158146\n",
       "37  0.295710719 0.03878260          Inf         1     0     0 0.0666027509\n",
       "64  0.058713945 0.03831866          Inf         1     0     0 0.3821110123\n",
       "55  0.171371144 0.03802395          Inf         1     0     0 0.1897444121\n",
       "73  0.026166435 0.03806987          Inf         1     0     0 0.4466586908\n",
       "11 -0.167735387 0.04343320          Inf         1     0     0 0.2104537544\n",
       "2   0.021478350 0.03815101          Inf         1     0     0 0.4562192240\n",
       "29 -0.105515335 0.09228349          Inf         1     0     0 0.3641683217\n",
       "20  0.079115220 0.03795022          Inf         1     0     0 0.3423277232\n",
       "47 -0.123779625 0.04490623          Inf         1     0     0 0.2795725899\n",
       "38 -0.167222428 0.13067979          Inf         1     0     0 0.3218314018\n",
       "65 -0.288045713 0.04738339          Inf         1     0     0 0.0928728664\n",
       "56  0.037071924 0.03808072          Inf         1     0     0 0.4246650329\n",
       "74 -0.334890665 0.04150850          Inf         1     0     0 0.0501144127\n",
       "12 -0.201883986 0.04564190          Inf         1     0     0 0.1723359836\n",
       "3   0.187532288 0.03787885          Inf         1     0     0 0.1676338823\n",
       "30  0.508974855 0.03790985          Inf         1     0     0 0.0044732931\n",
       "21  0.107308255 0.03790985          Inf         1     0     0 0.2907709587\n",
       "48 -0.080054927 0.04221750          Inf         1     0     0 0.3484085940\n",
       "39 -0.104843288 0.07992989          Inf         1     0     0 0.3553785271\n",
       "66 -0.220772034 0.04244175          Inf         1     0     0 0.1419417079\n",
       "57  0.044712315 0.03804928          Inf         1     0     0 0.4093486685\n",
       "75 -0.338943899 0.04156933          Inf         1     0     0 0.0482140849\n",
       "13  0.263188987 0.02227951 4.220203e-14         2     0     0 0.0389288096\n",
       "4   0.108510419 0.02227945 4.508342e-14         2     0     0 0.2336207725\n",
       "31  0.358408983 0.02227980 1.214526e-13         2     0     0 0.0081713344\n",
       "22  0.282342482 0.02227928 1.416039e-13         2     0     0 0.0292732119\n",
       "49  0.178500866 0.02228051 6.777193e-13         2     0     0 0.1158770045\n",
       "40  0.491037041 0.02227936 2.512020e-13         2     0     0 0.0005013824\n",
       "67  0.234604113 0.02227937 3.078603e-19         2     0     0 0.0580039689\n",
       "58  0.143775108 0.02227936 2.674401e-13         2     0     0 0.1677147239\n",
       "76  0.120853200 0.02227934 2.993335e-16         2     0     0 0.2090654812\n",
       "14  0.199270705 0.03746789          Inf         1     0     0 0.1516293639\n",
       "5   0.062107082 0.03746789          Inf         1     0     0 0.3741593906\n",
       "32  0.052003833 0.03746807          Inf         1     0     0 0.3940952692\n",
       "23  0.077652821 0.03746789          Inf         1     0     0 0.3441477699\n",
       "50  0.251457375 0.03746789          Inf         1     0     0 0.0969588312\n",
       "41  0.010465220 0.03746812          Inf         1     0     0 0.4784416280\n",
       "68  0.136621086 0.03746789          Inf         1     0     0 0.2401530040\n",
       "59  0.096709459 0.03746789          Inf         1     0     0 0.3086715372\n",
       "77 -0.075283044 0.03746790          Inf         1     0     0 0.3486652640\n",
       "15  0.073314181 0.03747241          Inf         1     0     0 0.3524433840\n",
       "6  -0.026702587 0.03747252          Inf         1     0     0 0.4451430810\n",
       "33 -0.042762629 0.03758044          Inf         1     0     0 0.4127063097\n",
       "24 -0.020644011 0.03747153          Inf         1     0     0 0.4575350271\n",
       "51 -0.026702587 0.03748320          Inf         1     0     0 0.4451508479\n",
       "42 -0.026702587 0.03754876          Inf         1     0     0 0.4451984477\n",
       "69 -0.026702587 0.03747333          Inf         1     0     0 0.4451436700\n",
       "60 -0.026702587 0.03747228          Inf         1     0     0 0.4451429107\n",
       "78 -0.026702587 0.03747068          Inf         1     0     0 0.4451417422\n",
       "16  0.193415169 0.03751839          Inf         1     0     0 0.1590071368\n",
       "7   0.126243102 0.03751462          Inf         1     0     0 0.2572684861\n",
       "34  0.254710466 0.03761718          Inf         1     0     0 0.0945461661\n",
       "25 -0.033613660 0.03754075          Inf         1     0     0 0.4311347332\n",
       "52  0.225895611 0.03752444          Inf         1     0     0 0.1217789160\n",
       "43  0.204263196 0.03765900          Inf         1     0     0 0.1462664359\n",
       "70  0.193932885 0.03751075          Inf         1     0     0 0.1583356692\n",
       "61  0.064317272 0.03752250          Inf         1     0     0 0.3699320253\n",
       "79  0.059344374 0.03751045          Inf         1     0     0 0.3796461126\n",
       "17  0.186905053 0.03809178          Inf         1     0     0 0.1691204345\n",
       "8   0.121931705 0.03804010          Inf         1     0     0 0.2659308306\n",
       "35  0.375717961 0.03831754          Inf         1     0     0 0.0274675231\n",
       "26  0.168176047 0.03795694          Inf         1     0     0 0.1940098668\n",
       "53  0.296048254 0.03802398          Inf         1     0     0 0.0644799080\n",
       "44 -0.236106143 0.32582799          Inf         1     0     0 0.3395721788\n",
       "71  0.132712201 0.03806419          Inf         1     0     0 0.2481810246\n",
       "62  0.077736259 0.03810020          Inf         1     0     0 0.3452215249\n",
       "80 -0.037880284 0.03812686          Inf         1     0     0 0.4230886429\n",
       "18 -0.231939121 0.02228071 6.397895e-14         2     0     0 0.0601099152\n",
       "9  -0.078026180 0.02227877 5.309674e-16         2     0     0 0.3005738371\n",
       "36  0.069844762 0.02227974 2.661809e-18         2     0     0 0.3199181346\n",
       "27 -0.273717548 0.02227917 5.733478e-17         2     0     0 0.0333414628\n",
       "54  0.122321497 0.02227871 1.484380e-16         2     0     0 0.2062458697\n",
       "45  0.002253118 0.02228109 1.311951e-13         2     0     0 0.4939784368\n",
       "72 -0.017546414 0.02227868 1.452527e-18         2     0     0 0.4532098611\n",
       "63 -0.140171735 0.02227902 5.984250e-14         2     0     0 0.1738393982\n",
       "81 -0.177565938 0.02227875 2.414973e-16         2     0     0 0.1170946437\n",
       "   p.value.sample p.value is.significant     ac  r1   r2 class1 class2\n",
       "10             NA       1              0 O60885 126 127C      A      C\n",
       "1              NA       1              0 O60885 126 127N      A      B\n",
       "28             NA       1              0 O60885 126 128C      A      E\n",
       "19             NA       1              0 O60885 126 128N      A      D\n",
       "46             NA       1              0 O60885 126 129C      A      G\n",
       "37             NA       1              0 O60885 126 129N      A      F\n",
       "64             NA       1              0 O60885 126 130C      A      I\n",
       "55             NA       1              0 O60885 126 130N      A      H\n",
       "73             NA       1              0 O60885 126 131N      A      J\n",
       "11             NA       1              0 P14868 126 127C      A      C\n",
       "2              NA       1              0 P14868 126 127N      A      B\n",
       "29             NA       1              0 P14868 126 128C      A      E\n",
       "20             NA       1              0 P14868 126 128N      A      D\n",
       "47             NA       1              0 P14868 126 129C      A      G\n",
       "38             NA       1              0 P14868 126 129N      A      F\n",
       "65             NA       1              0 P14868 126 130C      A      I\n",
       "56             NA       1              0 P14868 126 130N      A      H\n",
       "74             NA       1              0 P14868 126 131N      A      J\n",
       "12             NA       1              0 P22059 126 127C      A      C\n",
       "3              NA       1              0 P22059 126 127N      A      B\n",
       "30             NA       1              0 P22059 126 128C      A      E\n",
       "21             NA       1              0 P22059 126 128N      A      D\n",
       "48             NA       1              0 P22059 126 129C      A      G\n",
       "39             NA       1              0 P22059 126 129N      A      F\n",
       "66             NA       1              0 P22059 126 130C      A      I\n",
       "57             NA       1              0 P22059 126 130N      A      H\n",
       "75             NA       1              0 P22059 126 131N      A      J\n",
       "13             NA       1              0 P25942 126 127C      A      C\n",
       "4              NA       1              0 P25942 126 127N      A      B\n",
       "31             NA       1              0 P25942 126 128C      A      E\n",
       "22             NA       1              0 P25942 126 128N      A      D\n",
       "49             NA       1              0 P25942 126 129C      A      G\n",
       "40             NA       1              0 P25942 126 129N      A      F\n",
       "67             NA       1              0 P25942 126 130C      A      I\n",
       "58             NA       1              0 P25942 126 130N      A      H\n",
       "76             NA       1              0 P25942 126 131N      A      J\n",
       "14             NA       1              0 P46776 126 127C      A      C\n",
       "5              NA       1              0 P46776 126 127N      A      B\n",
       "32             NA       1              0 P46776 126 128C      A      E\n",
       "23             NA       1              0 P46776 126 128N      A      D\n",
       "50             NA       1              0 P46776 126 129C      A      G\n",
       "41             NA       1              0 P46776 126 129N      A      F\n",
       "68             NA       1              0 P46776 126 130C      A      I\n",
       "59             NA       1              0 P46776 126 130N      A      H\n",
       "77             NA       1              0 P46776 126 131N      A      J\n",
       "15             NA       1              0 P55263 126 127C      A      C\n",
       "6              NA       1              0 P55263 126 127N      A      B\n",
       "33             NA       1              0 P55263 126 128C      A      E\n",
       "24             NA       1              0 P55263 126 128N      A      D\n",
       "51             NA       1              0 P55263 126 129C      A      G\n",
       "42             NA       1              0 P55263 126 129N      A      F\n",
       "69             NA       1              0 P55263 126 130C      A      I\n",
       "60             NA       1              0 P55263 126 130N      A      H\n",
       "78             NA       1              0 P55263 126 131N      A      J\n",
       "16             NA       1              0 Q14152 126 127C      A      C\n",
       "7              NA       1              0 Q14152 126 127N      A      B\n",
       "34             NA       1              0 Q14152 126 128C      A      E\n",
       "25             NA       1              0 Q14152 126 128N      A      D\n",
       "52             NA       1              0 Q14152 126 129C      A      G\n",
       "43             NA       1              0 Q14152 126 129N      A      F\n",
       "70             NA       1              0 Q14152 126 130C      A      I\n",
       "61             NA       1              0 Q14152 126 130N      A      H\n",
       "79             NA       1              0 Q14152 126 131N      A      J\n",
       "17             NA       1              0 Q8N3Z6 126 127C      A      C\n",
       "8              NA       1              0 Q8N3Z6 126 127N      A      B\n",
       "35             NA       1              0 Q8N3Z6 126 128C      A      E\n",
       "26             NA       1              0 Q8N3Z6 126 128N      A      D\n",
       "53             NA       1              0 Q8N3Z6 126 129C      A      G\n",
       "44             NA       1              0 Q8N3Z6 126 129N      A      F\n",
       "71             NA       1              0 Q8N3Z6 126 130C      A      I\n",
       "62             NA       1              0 Q8N3Z6 126 130N      A      H\n",
       "80             NA       1              0 Q8N3Z6 126 131N      A      J\n",
       "18             NA       1              0 Q9BQE5 126 127C      A      C\n",
       "9              NA       1              0 Q9BQE5 126 127N      A      B\n",
       "36             NA       1              0 Q9BQE5 126 128C      A      E\n",
       "27             NA       1              0 Q9BQE5 126 128N      A      D\n",
       "54             NA       1              0 Q9BQE5 126 129C      A      G\n",
       "45             NA       1              0 Q9BQE5 126 129N      A      F\n",
       "72             NA       1              0 Q9BQE5 126 130C      A      I\n",
       "63             NA       1              0 Q9BQE5 126 130N      A      H\n",
       "81             NA       1              0 Q9BQE5 126 131N      A      J\n",
       "        zscore\n",
       "10 -1.33424109\n",
       "1   0.04041363\n",
       "28 -0.93339573\n",
       "19  0.53989757\n",
       "46  0.33080376\n",
       "37  1.48548159\n",
       "64 -0.02157690\n",
       "55  0.69480833\n",
       "73 -0.22854597\n",
       "11 -1.46156439\n",
       "2  -0.25835742\n",
       "29 -1.06590813\n",
       "20  0.10815446\n",
       "47 -1.18205044\n",
       "38 -1.45830249\n",
       "65 -2.22661573\n",
       "56 -0.15919815\n",
       "74 -2.52450199\n",
       "12 -1.67871475\n",
       "3   0.79757677\n",
       "30  2.84162464\n",
       "21  0.28743350\n",
       "48 -0.90400582\n",
       "39 -1.06163459\n",
       "66 -1.79882354\n",
       "57 -0.11061303\n",
       "75 -2.55027644\n",
       "13  1.27867645\n",
       "4   0.29507804\n",
       "31  1.88417880\n",
       "22  1.40047320\n",
       "49  0.74014611\n",
       "40  2.72755838\n",
       "67  1.09690572\n",
       "58  0.51932560\n",
       "76  0.37356557\n",
       "14  0.87222117\n",
       "5   0.00000000\n",
       "32 -0.06424639\n",
       "23  0.09885509\n",
       "50  1.20407532\n",
       "41 -0.32838973\n",
       "68  0.47383329\n",
       "59  0.22003593\n",
       "77 -0.87366150\n",
       "15  0.07126575\n",
       "6  -0.56473919\n",
       "33 -0.66686473\n",
       "24 -0.52621281\n",
       "51 -0.56473919\n",
       "42 -0.56473919\n",
       "69 -0.56473919\n",
       "60 -0.56473919\n",
       "78 -0.56473919\n",
       "16  0.83498591\n",
       "7   0.40783987\n",
       "34  1.22476167\n",
       "25 -0.60868659\n",
       "52  1.04152850\n",
       "43  0.90396833\n",
       "70  0.83827806\n",
       "61  0.01405456\n",
       "79 -0.01756802\n",
       "17  0.79358819\n",
       "8   0.38042377\n",
       "35  1.99424630\n",
       "26  0.67449076\n",
       "53  1.48762797\n",
       "44 -1.89633288\n",
       "71  0.44897676\n",
       "62  0.09938567\n",
       "80 -0.63581798\n",
       "18 -1.86983486\n",
       "9  -0.89110506\n",
       "36  0.04920378\n",
       "27 -2.13550317\n",
       "54  0.38290245\n",
       "45 -0.38061035\n",
       "72 -0.50651524\n",
       "63 -1.28628760\n",
       "81 -1.52407670\n"
      ]
     },
     "metadata": {},
     "output_type": "display_data"
    },
    {
     "data": {
      "image/png": "[encoded data removed]"
     },
     "metadata": {},
     "output_type": "display_data"
    },
    {
     "data": {
      "image/png": "[encoded data removed]"
     },
     "metadata": {},
     "output_type": "display_data"
    }
   ],
   "source": [
    "%%R \n",
    "\n",
    "suppressPackageStartupMessages(library(isobar))\n",
    "sink(stdout(),type=\"message\")\n",
    "\n",
    "# library causes the execution to fail if the library is missing\n",
    "library(isobar)\n",
    "\n",
    "# TODO load parameters \"%%R -i parname\"\n",
    "# process the input files\n",
    "max.fdr <- 0.01\n",
    "quant.method <- \"TMT10plexSpectra\"\n",
    "class.labels <- LETTERS[1:10]\n",
    "args <- commandArgs(trailingOnly = TRUE)\n",
    "\n",
    "ident.file <- \"OUT/experiment1_test_1_Extended_PSM_Report.txt\"\n",
    "mgf.files <- system(\"ls IN/*.mgf\", intern=T)\n",
    "\n",
    "if (!file.exists(ident.file)) {\n",
    "    stop(\"Error: Cannot find identification file \", ident.file)\n",
    "}\n",
    "for (mgf.file in mgf.files) {\n",
    "    if (!file.exists(mgf.file)) {\n",
    "        stop(\"Error: Cannot find MGF file \", mgf.file)\n",
    "    }\n",
    "}\n",
    "\n",
    "# Convert SearchGUI output to isobar format\n",
    "psms <- read.csv(ident.file, sep = \"\\t\")\n",
    "\n",
    "if (! \"Decoy\" %in% names(psms)) {\n",
    "    stop(\"Error: No decoy information available in output file\")\n",
    "}\n",
    "\n",
    "print(paste(\"Loaded\",nrow(psms), \"PSMs\"))\n",
    "\n",
    "# ---- Confidence filter ----\n",
    "psms <- psms[order(psms[, \"Confidence....\"], decreasing = T), ]\n",
    "decoy.psms <- which(psms[, \"Decoy\"] == \"1\")\n",
    "\n",
    "decoy.count <- 0\n",
    "\n",
    "for (decoy.index in decoy.psms) {\n",
    "    decoy.count <- decoy.count + 1\n",
    "    target.count <- decoy.index - decoy.count\n",
    "\n",
    "    cur.fdr <- (decoy.count * 2) / (decoy.count + target.count)\n",
    "\n",
    "    if (cur.fdr > max.fdr) {\n",
    "        # filter\n",
    "        psms <- psms[1:decoy.index - 1,]\n",
    "        break\n",
    "    }\n",
    "}\n",
    "\n",
    "# print(head(psms))\n",
    "\n",
    "print(paste0(\"Filtered \", nrow(psms), \" PSMs @ \", max.fdr, \" FDR\"))\n",
    "\n",
    "# ---- convert to isobar output ----\n",
    "cols.to.save <- c(\"Protein.s.\", \"Sequence\", \"Spectrum.Title\", \"Variable.Modifications\", \"Confidence....\", \"D.score\", \"Validation\", \"Precursor.m.z.Error..ppm.\", \"Spectrum.File\")\n",
    "\n",
    "if (!all(cols.to.save %in% colnames(psms))) {\n",
    "    stop(\"Error: Unexpected result format\")\n",
    "}\n",
    "\n",
    "psms <- psms[, cols.to.save]\n",
    "colnames(psms) <- c(\"accession\", \"peptide\", \"spectrum\", \"var_mod\", \"pepscore\", \"dscore\", \"validation\", \n",
    "\"precursor.mz.error.ppm\", \"file\")\n",
    "\n",
    "# TODO: add modif...\n",
    "psms$modif <- \"\"\n",
    "\n",
    "write.table(psms, file = \"t.corr.csv\", sep = \"\\t\", row.names = F, quote = F)\n",
    "\n",
    "# ---- isobar workflow ----\n",
    "ib <- readIBSpectra(quant.method, \"t.corr.csv\", mgf.files, decode.titles = T)\n",
    "\n",
    "ib <- correctIsotopeImpurities(ib)\n",
    "ib <- normalize(ib)\n",
    "noise.model <- NoiseModel(ib)\n",
    "\n",
    "# Extract peptide and protein ratios\n",
    "protein.ratios <- proteinRatios(ib, noise.model, combn.method = \"versus.channel\", cl = class.labels)\n",
    "peptide.ratios <- peptideRatios(ib, noise.model, combn.method = \"versus.channel\", cl = class.labels)\n",
    "\n",
    "boxplot(peptide.ratios$lratio, main = paste(\"Peptide ratios (Total: \",length(unique(peptide.ratios$peptide)),\")\",sep=\"\"), ylab = \"Peptide ratios\")\n",
    "boxplot(protein.ratios$lratio, main = paste(\"Protein ratios (Total: \",length(unique(protein.ratios$ac)),\")\",sep=\"\"), ylab = \"Protein ratios\")\n",
    "\n",
    "# save the ratios for later use\n",
    "saveRDS(protein.ratios, file = \"OUT/protein.ratios.rds\")\n",
    "saveRDS(peptide.ratios, file = \"OUT/peptide.ratios.rds\")\n",
    "\n"
   ]
  },
  {
   "cell_type": "markdown",
   "metadata": {},
   "source": [
    "After extracting the protein abundance profiles, we now normalize the data columns and produce figures for quality control and reproducibility"
   ]
  },
  {
   "cell_type": "code",
   "execution_count": 40,
   "metadata": {
    "ExecuteTime": {
     "end_time": "2018-01-23T13:55:58.937461Z",
     "start_time": "2018-01-23T13:55:58.560525Z"
    }
   },
   "outputs": [
    {
     "data": {
      "image/png": "[encoded data removed]"
     },
     "metadata": {},
     "output_type": "display_data"
    },
    {
     "data": {
      "image/png": "[encoded data removed]"
     },
     "metadata": {},
     "output_type": "display_data"
    },
    {
     "data": {
      "image/png": "[encoded data removed]"
     },
     "metadata": {},
     "output_type": "display_data"
    }
   ],
   "source": [
    "%%R\n",
    "\n",
    "library(lattice)\n",
    "## TODO: Disentangle experimental design into conditions and replicates\n",
    "sampleTypes <- c(1,1,1,1,1,2,2,2,2,2)\n",
    "\n",
    "# Reorder table\n",
    "prot1 <- by(protein.ratios$lratio, protein.ratios$ac, function(x) x)\n",
    "numratios <- length(class.labels)\n",
    "prot1 <- matrix(unlist(prot1),ncol=numratios,byrow=T,dimnames=list(row=names(prot1),col=1:numratios))\n",
    "boxplot(prot1, main=\"Before protein normalization\")\n",
    "            \n",
    "# filter for less then 50% missing values per protein\n",
    "prot1 <- prot1[rowSums(is.na(prot1)) < numratios/2,]\n",
    "            \n",
    "# Additional normalization on protein level        \n",
    "prot1 <- sapply(as.data.frame(prot1), function(x) x - median(x,na.rm=T))\n",
    "boxplot(prot1, main=\"After protein normalization\")   \n",
    "                \n",
    "# PCA of samples\n",
    "#pca <- princomp(prot1[complete.cases(prot1),])\n",
    "#plot(pca$loadings,col=rainbow(max(sampleTypes))[sampleTypes])\n",
    "#text(pca$loadings, names(prot1),pos=1)\n",
    "                \n",
    "# Correlation plot\n",
    "levelplot(cor(prot1[,2:ncol(prot1)],use=\"na.or.complete\"), main=\"correlation between samples\")\n",
    "                \n",
    "              \n",
    "\n"
   ]
  },
  {
   "cell_type": "code",
   "execution_count": null,
   "metadata": {},
   "outputs": [],
   "source": []
  },
  {
   "cell_type": "code",
   "execution_count": null,
   "metadata": {},
   "outputs": [],
   "source": [
    "# TODO Statistcal tests, e.g. limma or link to shiny\n",
    "                \n",
    "# TODO Clustering, ..., by link to shiny\n"
   ]
  }
 ],
 "metadata": {
  "celltoolbar": "Hide code",
  "hide_code_all_hidden": false,
  "kernelspec": {
   "display_name": "Python 3",
   "language": "python",
   "name": "python3"
  },
  "language_info": {
   "codemirror_mode": {
    "name": "ipython",
    "version": 3
   },
   "file_extension": ".py",
   "mimetype": "text/x-python",
   "name": "python",
   "nbconvert_exporter": "python",
   "pygments_lexer": "ipython3",
   "version": "3.5.2"
  },
  "latex_envs": {
   "LaTeX_envs_menu_present": true,
   "autoclose": false,
   "autocomplete": true,
   "bibliofile": "biblio.bib",
   "cite_by": "apalike",
   "current_citInitial": 1,
   "eqLabelWithNumbers": true,
   "eqNumInitial": 1,
   "hotkeys": {
    "equation": "Ctrl-E",
    "itemize": "Ctrl-I"
   },
   "labels_anchors": false,
   "latex_user_defs": false,
   "report_style_numbering": false,
   "user_envs_cfg": false
  },
  "notify_time": "5",
  "widgets": {
   "application/vnd.jupyter.widget-state+json": {
    "state": {
     "006c0d6bdab445ed9513c0108a94acc9": {
      "model_module": "@jupyter-widgets/base",
      "model_module_version": "1.0.0",
      "model_name": "LayoutModel",
      "state": {}
     },
     "0f515c445e364810b05793012fa2fc69": {
      "model_module": "@jupyter-widgets/base",
      "model_module_version": "1.0.0",
      "model_name": "LayoutModel",
      "state": {}
     },
     "118c45d46fe542f4bb3f3ad400afeb43": {
      "model_module": "@jupyter-widgets/controls",
      "model_module_version": "1.1.0",
      "model_name": "SliderStyleModel",
      "state": {
       "description_width": ""
      }
     },
     "1354d14a8ca146b991345957a558ab71": {
      "model_module": "@jupyter-widgets/controls",
      "model_module_version": "1.1.0",
      "model_name": "DescriptionStyleModel",
      "state": {
       "description_width": ""
      }
     },
     "17f5580f05c3462992b23330753f2349": {
      "model_module": "@jupyter-widgets/base",
      "model_module_version": "1.0.0",
      "model_name": "LayoutModel",
      "state": {}
     },
     "1a715686ce7c473aa2d2902f1f0aa6ae": {
      "model_module": "@jupyter-widgets/controls",
      "model_module_version": "1.1.0",
      "model_name": "IntSliderModel",
      "state": {
       "layout": "IPY_MODEL_0f515c445e364810b05793012fa2fc69",
       "max": 30,
       "min": -10,
       "style": "IPY_MODEL_118c45d46fe542f4bb3f3ad400afeb43",
       "value": 20
      }
     },
     "1c43d93c7e7446cbbd37c0a3f65a8173": {
      "model_module": "@jupyter-widgets/controls",
      "model_module_version": "1.1.0",
      "model_name": "LabelModel",
      "state": {
       "layout": "IPY_MODEL_68f71112034a4e84ab8abe8a5c74a8b2",
       "style": "IPY_MODEL_1354d14a8ca146b991345957a558ab71",
       "value": "Precursor tolerance (ppm):"
      }
     },
     "1e06ec7b7e0a4c6f8dd50b698588dc8a": {
      "model_module": "@jupyter-widgets/controls",
      "model_module_version": "1.1.0",
      "model_name": "TextModel",
      "state": {
       "layout": "IPY_MODEL_7f9e8115de004a38817feff8c26d532d",
       "style": "IPY_MODEL_fdb1fc49cad94d3db1b3008b51b330ba",
       "value": "IN/sp_human.fasta"
      }
     },
     "1e3ec101d8b341ffbf8a6a2beabd8359": {
      "model_module": "@jupyter-widgets/controls",
      "model_module_version": "1.1.0",
      "model_name": "DescriptionStyleModel",
      "state": {
       "description_width": ""
      }
     },
     "26658e256d08427697b62931ca6dfc91": {
      "model_module": "@jupyter-widgets/controls",
      "model_module_version": "1.1.0",
      "model_name": "TextModel",
      "state": {
       "layout": "IPY_MODEL_86860e61005c4a87a488f1603913afdb",
       "style": "IPY_MODEL_2d494be0e4464bb99922b6fb02311453",
       "value": "IN/"
      }
     },
     "274aa9f17b8346479cfd294b7feed009": {
      "model_module": "@jupyter-widgets/controls",
      "model_module_version": "1.1.0",
      "model_name": "DescriptionStyleModel",
      "state": {
       "description_width": ""
      }
     },
     "2d494be0e4464bb99922b6fb02311453": {
      "model_module": "@jupyter-widgets/controls",
      "model_module_version": "1.1.0",
      "model_name": "DescriptionStyleModel",
      "state": {
       "description_width": ""
      }
     },
     "3d8f39374f184cbfade7c645c2aad625": {
      "model_module": "@jupyter-widgets/controls",
      "model_module_version": "1.1.0",
      "model_name": "SliderStyleModel",
      "state": {
       "description_width": ""
      }
     },
     "3fdf8623c3654bc3a311b198285c12dc": {
      "model_module": "@jupyter-widgets/controls",
      "model_module_version": "1.1.0",
      "model_name": "IntSliderModel",
      "state": {
       "layout": "IPY_MODEL_8d40a0c2c6c74f1cb304fc58614439df",
       "max": 10,
       "style": "IPY_MODEL_3d8f39374f184cbfade7c645c2aad625",
       "value": 1
      }
     },
     "41aedf5b8f4f4d4fb3a4bc69b6ed1962": {
      "model_module": "@jupyter-widgets/controls",
      "model_module_version": "1.1.0",
      "model_name": "DropdownModel",
      "state": {
       "_options_labels": [
        "None",
        "Oxidation of M",
        "Phosphorylation of STY"
       ],
       "index": 0,
       "layout": "IPY_MODEL_e209b12adf2546b690281df4824e136a",
       "style": "IPY_MODEL_8300aa906f5e44f89d1665b6ab2c191c"
      }
     },
     "42fe80e038e241edb86dda31e55826c5": {
      "model_module": "@jupyter-widgets/controls",
      "model_module_version": "1.1.0",
      "model_name": "LabelModel",
      "state": {
       "layout": "IPY_MODEL_97546e8f97054188b851c46cf4504772",
       "style": "IPY_MODEL_57d25e79b9d44c269c9365c0452090a6",
       "value": "Further fixed modifications"
      }
     },
     "46ccdc37769c400580fbb61a22d99d85": {
      "model_module": "@jupyter-widgets/base",
      "model_module_version": "1.0.0",
      "model_name": "LayoutModel",
      "state": {}
     },
     "4af07a1a596f42709f9c6087db11736c": {
      "model_module": "@jupyter-widgets/controls",
      "model_module_version": "1.1.0",
      "model_name": "DescriptionStyleModel",
      "state": {
       "description_width": ""
      }
     },
     "4f0ffd76fc30424899fec38160888119": {
      "model_module": "@jupyter-widgets/controls",
      "model_module_version": "1.1.0",
      "model_name": "DescriptionStyleModel",
      "state": {
       "description_width": ""
      }
     },
     "51e1b418477d474aa16fb37d49687abc": {
      "model_module": "@jupyter-widgets/controls",
      "model_module_version": "1.1.0",
      "model_name": "LabelModel",
      "state": {
       "layout": "IPY_MODEL_54eb327e549a47f9918081c32d2dc141",
       "style": "IPY_MODEL_274aa9f17b8346479cfd294b7feed009",
       "value": "Further variable modifications"
      }
     },
     "54eb327e549a47f9918081c32d2dc141": {
      "model_module": "@jupyter-widgets/base",
      "model_module_version": "1.0.0",
      "model_name": "LayoutModel",
      "state": {}
     },
     "57d25e79b9d44c269c9365c0452090a6": {
      "model_module": "@jupyter-widgets/controls",
      "model_module_version": "1.1.0",
      "model_name": "DescriptionStyleModel",
      "state": {
       "description_width": ""
      }
     },
     "5e967dd8495b44f7b8e0c25c7f77a648": {
      "model_module": "@jupyter-widgets/base",
      "model_module_version": "1.0.0",
      "model_name": "LayoutModel",
      "state": {}
     },
     "622a973c66674f1db846bba40719ded3": {
      "model_module": "@jupyter-widgets/base",
      "model_module_version": "1.0.0",
      "model_name": "LayoutModel",
      "state": {}
     },
     "68f71112034a4e84ab8abe8a5c74a8b2": {
      "model_module": "@jupyter-widgets/base",
      "model_module_version": "1.0.0",
      "model_name": "LayoutModel",
      "state": {}
     },
     "6ddc43e660f24d2bb4f74cb0627c177a": {
      "model_module": "@jupyter-widgets/controls",
      "model_module_version": "1.1.0",
      "model_name": "DropdownModel",
      "state": {
       "_options_labels": [
        "iTRAQ4",
        "TMT10",
        "iTRAQ8 (fixed)",
        "TMT6",
        "iTRAQ8 (variable)"
       ],
       "index": 0,
       "layout": "IPY_MODEL_006c0d6bdab445ed9513c0108a94acc9",
       "style": "IPY_MODEL_e789c3c766a54f6aa5965ef0a741b343"
      }
     },
     "71ba55e952bc432d9c1e83d85869fbb6": {
      "model_module": "@jupyter-widgets/base",
      "model_module_version": "1.0.0",
      "model_name": "LayoutModel",
      "state": {}
     },
     "759a9547dec0490f9781bc20905a542a": {
      "model_module": "@jupyter-widgets/controls",
      "model_module_version": "1.1.0",
      "model_name": "DropdownModel",
      "state": {
       "_options_labels": [
        "Carbamidomethylation of C",
        "None"
       ],
       "index": 0,
       "layout": "IPY_MODEL_5e967dd8495b44f7b8e0c25c7f77a648",
       "style": "IPY_MODEL_dc74a44f09934bbaa5e9671bc2956c06"
      }
     },
     "7f9e8115de004a38817feff8c26d532d": {
      "model_module": "@jupyter-widgets/base",
      "model_module_version": "1.0.0",
      "model_name": "LayoutModel",
      "state": {}
     },
     "8300aa906f5e44f89d1665b6ab2c191c": {
      "model_module": "@jupyter-widgets/controls",
      "model_module_version": "1.1.0",
      "model_name": "DescriptionStyleModel",
      "state": {
       "description_width": ""
      }
     },
     "8632e5f25c504c20815545e12451a07d": {
      "model_module": "@jupyter-widgets/controls",
      "model_module_version": "1.1.0",
      "model_name": "LabelModel",
      "state": {
       "layout": "IPY_MODEL_d1e6c54bebc44939839c23ebce162186",
       "style": "IPY_MODEL_4af07a1a596f42709f9c6087db11736c",
       "value": "Quantification method:"
      }
     },
     "86860e61005c4a87a488f1603913afdb": {
      "model_module": "@jupyter-widgets/base",
      "model_module_version": "1.0.0",
      "model_name": "LayoutModel",
      "state": {}
     },
     "8d40a0c2c6c74f1cb304fc58614439df": {
      "model_module": "@jupyter-widgets/base",
      "model_module_version": "1.0.0",
      "model_name": "LayoutModel",
      "state": {}
     },
     "94140d7596cd4f1da093b528b1602064": {
      "model_module": "@jupyter-widgets/controls",
      "model_module_version": "1.1.0",
      "model_name": "DescriptionStyleModel",
      "state": {
       "description_width": ""
      }
     },
     "952a9ec28d55455d9871f67cb8298102": {
      "model_module": "@jupyter-widgets/base",
      "model_module_version": "1.0.0",
      "model_name": "LayoutModel",
      "state": {}
     },
     "97546e8f97054188b851c46cf4504772": {
      "model_module": "@jupyter-widgets/base",
      "model_module_version": "1.0.0",
      "model_name": "LayoutModel",
      "state": {}
     },
     "9793d215fc064798b0d5141e5623f071": {
      "model_module": "@jupyter-widgets/controls",
      "model_module_version": "1.1.0",
      "model_name": "DescriptionStyleModel",
      "state": {
       "description_width": ""
      }
     },
     "99c9fc6c22db49b2a05a98e73122f3e3": {
      "model_module": "@jupyter-widgets/controls",
      "model_module_version": "1.1.0",
      "model_name": "LabelModel",
      "state": {
       "layout": "IPY_MODEL_17f5580f05c3462992b23330753f2349",
       "style": "IPY_MODEL_edc7e2e0be46481ab2f59904a45d2333",
       "value": "Number of miscleavages;"
      }
     },
     "a05afb66702443d1a6a5a7cd2823e312": {
      "model_module": "@jupyter-widgets/controls",
      "model_module_version": "1.1.0",
      "model_name": "BoundedFloatTextModel",
      "state": {
       "layout": "IPY_MODEL_46ccdc37769c400580fbb61a22d99d85",
       "max": 200,
       "step": null,
       "style": "IPY_MODEL_94140d7596cd4f1da093b528b1602064",
       "value": 0.05
      }
     },
     "b8079adb109246e6bcb5a54bba350b26": {
      "model_module": "@jupyter-widgets/controls",
      "model_module_version": "1.1.0",
      "model_name": "VBoxModel",
      "state": {
       "children": [
        "IPY_MODEL_1c43d93c7e7446cbbd37c0a3f65a8173",
        "IPY_MODEL_1a715686ce7c473aa2d2902f1f0aa6ae",
        "IPY_MODEL_f7552cdde9124b09bdf5c63f4671ad5c",
        "IPY_MODEL_a05afb66702443d1a6a5a7cd2823e312",
        "IPY_MODEL_fc3fd9fd93304dc196fb4c482dec10d7",
        "IPY_MODEL_1e06ec7b7e0a4c6f8dd50b698588dc8a",
        "IPY_MODEL_8632e5f25c504c20815545e12451a07d",
        "IPY_MODEL_6ddc43e660f24d2bb4f74cb0627c177a",
        "IPY_MODEL_99c9fc6c22db49b2a05a98e73122f3e3",
        "IPY_MODEL_3fdf8623c3654bc3a311b198285c12dc",
        "IPY_MODEL_42fe80e038e241edb86dda31e55826c5",
        "IPY_MODEL_759a9547dec0490f9781bc20905a542a",
        "IPY_MODEL_51e1b418477d474aa16fb37d49687abc",
        "IPY_MODEL_41aedf5b8f4f4d4fb3a4bc69b6ed1962",
        "IPY_MODEL_ef224f3903f248df85d134af7617d6d6",
        "IPY_MODEL_26658e256d08427697b62931ca6dfc91"
       ],
       "layout": "IPY_MODEL_71ba55e952bc432d9c1e83d85869fbb6"
      }
     },
     "bcc46d0973a345bd800c241d0c40bba3": {
      "model_module": "@jupyter-widgets/base",
      "model_module_version": "1.0.0",
      "model_name": "LayoutModel",
      "state": {}
     },
     "d1e6c54bebc44939839c23ebce162186": {
      "model_module": "@jupyter-widgets/base",
      "model_module_version": "1.0.0",
      "model_name": "LayoutModel",
      "state": {}
     },
     "dc74a44f09934bbaa5e9671bc2956c06": {
      "model_module": "@jupyter-widgets/controls",
      "model_module_version": "1.1.0",
      "model_name": "DescriptionStyleModel",
      "state": {
       "description_width": ""
      }
     },
     "e05f1500d9ce4052afbcae6542621b10": {
      "model_module": "@jupyter-widgets/controls",
      "model_module_version": "1.1.0",
      "model_name": "DescriptionStyleModel",
      "state": {
       "description_width": ""
      }
     },
     "e209b12adf2546b690281df4824e136a": {
      "model_module": "@jupyter-widgets/base",
      "model_module_version": "1.0.0",
      "model_name": "LayoutModel",
      "state": {}
     },
     "e789c3c766a54f6aa5965ef0a741b343": {
      "model_module": "@jupyter-widgets/controls",
      "model_module_version": "1.1.0",
      "model_name": "DescriptionStyleModel",
      "state": {
       "description_width": ""
      }
     },
     "edc7e2e0be46481ab2f59904a45d2333": {
      "model_module": "@jupyter-widgets/controls",
      "model_module_version": "1.1.0",
      "model_name": "DescriptionStyleModel",
      "state": {
       "description_width": ""
      }
     },
     "ef224f3903f248df85d134af7617d6d6": {
      "model_module": "@jupyter-widgets/controls",
      "model_module_version": "1.1.0",
      "model_name": "LabelModel",
      "state": {
       "layout": "IPY_MODEL_f7508e2e57b24b99a70cf0c378a51646",
       "style": "IPY_MODEL_1e3ec101d8b341ffbf8a6a2beabd8359",
       "value": "Folder for spectra files (files need to be mgf)"
      }
     },
     "f7508e2e57b24b99a70cf0c378a51646": {
      "model_module": "@jupyter-widgets/base",
      "model_module_version": "1.0.0",
      "model_name": "LayoutModel",
      "state": {}
     },
     "f7552cdde9124b09bdf5c63f4671ad5c": {
      "model_module": "@jupyter-widgets/controls",
      "model_module_version": "1.1.0",
      "model_name": "LabelModel",
      "state": {
       "layout": "IPY_MODEL_bcc46d0973a345bd800c241d0c40bba3",
       "style": "IPY_MODEL_e05f1500d9ce4052afbcae6542621b10",
       "value": "Fragment ion tolerance (da):"
      }
     },
     "fa112850065f4a7f877b6b7367ed5033": {
      "model_module": "@jupyter-widgets/controls",
      "model_module_version": "1.1.0",
      "model_name": "CheckboxModel",
      "state": {
       "description": "Decoy",
       "disabled": false,
       "layout": "IPY_MODEL_622a973c66674f1db846bba40719ded3",
       "style": "IPY_MODEL_4f0ffd76fc30424899fec38160888119",
       "value": false
      }
     },
     "fc3fd9fd93304dc196fb4c482dec10d7": {
      "model_module": "@jupyter-widgets/controls",
      "model_module_version": "1.1.0",
      "model_name": "LabelModel",
      "state": {
       "layout": "IPY_MODEL_952a9ec28d55455d9871f67cb8298102",
       "style": "IPY_MODEL_9793d215fc064798b0d5141e5623f071",
       "value": "Fasta file (database):"
      }
     },
     "fdb1fc49cad94d3db1b3008b51b330ba": {
      "model_module": "@jupyter-widgets/controls",
      "model_module_version": "1.1.0",
      "model_name": "DescriptionStyleModel",
      "state": {
       "description_width": ""
      }
     }
    },
    "version_major": 2,
    "version_minor": 0
   }
  }
 },
 "nbformat": 4,
 "nbformat_minor": 2
}
