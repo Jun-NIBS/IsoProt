{
 "cells": [
  {
   "cell_type": "markdown",
   "metadata": {
    "hideCode": false,
    "hidePrompt": false
   },
   "source": [
    "# Protocol for analysis of labeled proteomics data\n",
    "We recommend the following structure for describing the protocol and its example workflow. Below you can find an overview of required features of the protocol and its description and rules for best practices.\n",
    "\n",
    "This is the link to the github repository of the protocol \n",
    "TODO add version!\n",
    "https://github.com/ProtProtocols/biocontainer-jupyter\n",
    "\n",
    "Link to docker image:\n",
    "\n",
    "\n",
    "\n",
    "## Abstract\n",
    "Provide a short description of the software protocol including broader context, functionality, use case and purpose. \n",
    "\n",
    "\n",
    "## Maintainer\n",
    "Provide details about the protocol maintainer (e.g. email address and/or github username)\n",
    "\n",
    "## Software\n",
    "Specify links for documentation and tutorials of used software, source code, publications and use cases. Detail versions of each used software. Alternatively, provide links to the software descriptions in https://bio.tools where this information is available.\n",
    "\n",
    "## Diagram\n",
    "Provide a simple diagram of functionality of the workflow/software. We recommend using controlled vocabularies for input/output data types and file formats as well as provided operation of the tool(s). You can use http://edamontology.org terms for the description.\n",
    "\n",
    "__TODO: example__\n",
    "\n",
    "## System requirements\n",
    "Fill in the following items:\n",
    "Required hard disk space for docker image, input and output files: \n",
    "\n",
    "Required memory: \n",
    "\n",
    "Recommmended number of threads: \n",
    "\n",
    "## Example \n",
    "Presentation of well-documented instructions and commands to run the example use case. Depending on the use case and the software, provide link(s) to open the web service incorportated in the Docker image (e.g. 0.0.0.0:8080), bash commands to run programs from the command line and additional code for e.g. checking and visualizing the (intermediate) results. \n",
    "\n",
    "Instead of providing the instructions in this notebook, one can also provide a link to a notebook containing the example use case.\n",
    "\n",
    "## More general use case (optional)\n",
    "Provide link to notebook with a generalized use case that easily can be adapted to e.g. process different input data and concurrent parametrization.\n",
    "\n",
    "\n"
   ]
  },
  {
   "cell_type": "markdown",
   "metadata": {
    "hideCode": false,
    "hidePrompt": false
   },
   "source": [
    "# Example\n"
   ]
  },
  {
   "cell_type": "markdown",
   "metadata": {
    "hideCode": false,
    "hidePrompt": false
   },
   "source": [
    "Specify parameters for database search and evaluation of identified peptide-spectrum matches:"
   ]
  },
  {
   "cell_type": "code",
   "execution_count": 1,
   "metadata": {
    "hideCode": false,
    "hideOutput": false,
    "hidePrompt": false
   },
   "outputs": [
    {
     "ename": "ModuleNotFoundError",
     "evalue": "No module named 'rpy2'",
     "output_type": "error",
     "traceback": [
      "\u001b[0;31m---------------------------------------------------------------------------\u001b[0m",
      "\u001b[0;31mModuleNotFoundError\u001b[0m                       Traceback (most recent call last)",
      "\u001b[0;32m<ipython-input-1-00c735ad8f6d>\u001b[0m in \u001b[0;36m<module>\u001b[0;34m()\u001b[0m\n\u001b[0;32m----> 1\u001b[0;31m \u001b[0mget_ipython\u001b[0m\u001b[0;34m(\u001b[0m\u001b[0;34m)\u001b[0m\u001b[0;34m.\u001b[0m\u001b[0mrun_line_magic\u001b[0m\u001b[0;34m(\u001b[0m\u001b[0;34m'load_ext'\u001b[0m\u001b[0;34m,\u001b[0m \u001b[0;34m'rpy2.ipython'\u001b[0m\u001b[0;34m)\u001b[0m\u001b[0;34m\u001b[0m\u001b[0m\n\u001b[0m\u001b[1;32m      2\u001b[0m \u001b[0;34m\u001b[0m\u001b[0m\n",
      "\u001b[0;32m/usr/lib/python3.6/site-packages/IPython/core/interactiveshell.py\u001b[0m in \u001b[0;36mrun_line_magic\u001b[0;34m(self, magic_name, line, _stack_depth)\u001b[0m\n\u001b[1;32m   2093\u001b[0m                 \u001b[0mkwargs\u001b[0m\u001b[0;34m[\u001b[0m\u001b[0;34m'local_ns'\u001b[0m\u001b[0;34m]\u001b[0m \u001b[0;34m=\u001b[0m \u001b[0msys\u001b[0m\u001b[0;34m.\u001b[0m\u001b[0m_getframe\u001b[0m\u001b[0;34m(\u001b[0m\u001b[0mstack_depth\u001b[0m\u001b[0;34m)\u001b[0m\u001b[0;34m.\u001b[0m\u001b[0mf_locals\u001b[0m\u001b[0;34m\u001b[0m\u001b[0m\n\u001b[1;32m   2094\u001b[0m             \u001b[0;32mwith\u001b[0m \u001b[0mself\u001b[0m\u001b[0;34m.\u001b[0m\u001b[0mbuiltin_trap\u001b[0m\u001b[0;34m:\u001b[0m\u001b[0;34m\u001b[0m\u001b[0m\n\u001b[0;32m-> 2095\u001b[0;31m                 \u001b[0mresult\u001b[0m \u001b[0;34m=\u001b[0m \u001b[0mfn\u001b[0m\u001b[0;34m(\u001b[0m\u001b[0;34m*\u001b[0m\u001b[0margs\u001b[0m\u001b[0;34m,\u001b[0m\u001b[0;34m**\u001b[0m\u001b[0mkwargs\u001b[0m\u001b[0;34m)\u001b[0m\u001b[0;34m\u001b[0m\u001b[0m\n\u001b[0m\u001b[1;32m   2096\u001b[0m             \u001b[0;32mreturn\u001b[0m \u001b[0mresult\u001b[0m\u001b[0;34m\u001b[0m\u001b[0m\n\u001b[1;32m   2097\u001b[0m \u001b[0;34m\u001b[0m\u001b[0m\n",
      "\u001b[0;32m<decorator-gen-65>\u001b[0m in \u001b[0;36mload_ext\u001b[0;34m(self, module_str)\u001b[0m\n",
      "\u001b[0;32m/usr/lib/python3.6/site-packages/IPython/core/magic.py\u001b[0m in \u001b[0;36m<lambda>\u001b[0;34m(f, *a, **k)\u001b[0m\n\u001b[1;32m    185\u001b[0m     \u001b[0;31m# but it's overkill for just that one bit of state.\u001b[0m\u001b[0;34m\u001b[0m\u001b[0;34m\u001b[0m\u001b[0m\n\u001b[1;32m    186\u001b[0m     \u001b[0;32mdef\u001b[0m \u001b[0mmagic_deco\u001b[0m\u001b[0;34m(\u001b[0m\u001b[0marg\u001b[0m\u001b[0;34m)\u001b[0m\u001b[0;34m:\u001b[0m\u001b[0;34m\u001b[0m\u001b[0m\n\u001b[0;32m--> 187\u001b[0;31m         \u001b[0mcall\u001b[0m \u001b[0;34m=\u001b[0m \u001b[0;32mlambda\u001b[0m \u001b[0mf\u001b[0m\u001b[0;34m,\u001b[0m \u001b[0;34m*\u001b[0m\u001b[0ma\u001b[0m\u001b[0;34m,\u001b[0m \u001b[0;34m**\u001b[0m\u001b[0mk\u001b[0m\u001b[0;34m:\u001b[0m \u001b[0mf\u001b[0m\u001b[0;34m(\u001b[0m\u001b[0;34m*\u001b[0m\u001b[0ma\u001b[0m\u001b[0;34m,\u001b[0m \u001b[0;34m**\u001b[0m\u001b[0mk\u001b[0m\u001b[0;34m)\u001b[0m\u001b[0;34m\u001b[0m\u001b[0m\n\u001b[0m\u001b[1;32m    188\u001b[0m \u001b[0;34m\u001b[0m\u001b[0m\n\u001b[1;32m    189\u001b[0m         \u001b[0;32mif\u001b[0m \u001b[0mcallable\u001b[0m\u001b[0;34m(\u001b[0m\u001b[0marg\u001b[0m\u001b[0;34m)\u001b[0m\u001b[0;34m:\u001b[0m\u001b[0;34m\u001b[0m\u001b[0m\n",
      "\u001b[0;32m/usr/lib/python3.6/site-packages/IPython/core/magics/extension.py\u001b[0m in \u001b[0;36mload_ext\u001b[0;34m(self, module_str)\u001b[0m\n\u001b[1;32m     31\u001b[0m         \u001b[0;32mif\u001b[0m \u001b[0;32mnot\u001b[0m \u001b[0mmodule_str\u001b[0m\u001b[0;34m:\u001b[0m\u001b[0;34m\u001b[0m\u001b[0m\n\u001b[1;32m     32\u001b[0m             \u001b[0;32mraise\u001b[0m \u001b[0mUsageError\u001b[0m\u001b[0;34m(\u001b[0m\u001b[0;34m'Missing module name.'\u001b[0m\u001b[0;34m)\u001b[0m\u001b[0;34m\u001b[0m\u001b[0m\n\u001b[0;32m---> 33\u001b[0;31m         \u001b[0mres\u001b[0m \u001b[0;34m=\u001b[0m \u001b[0mself\u001b[0m\u001b[0;34m.\u001b[0m\u001b[0mshell\u001b[0m\u001b[0;34m.\u001b[0m\u001b[0mextension_manager\u001b[0m\u001b[0;34m.\u001b[0m\u001b[0mload_extension\u001b[0m\u001b[0;34m(\u001b[0m\u001b[0mmodule_str\u001b[0m\u001b[0;34m)\u001b[0m\u001b[0;34m\u001b[0m\u001b[0m\n\u001b[0m\u001b[1;32m     34\u001b[0m \u001b[0;34m\u001b[0m\u001b[0m\n\u001b[1;32m     35\u001b[0m         \u001b[0;32mif\u001b[0m \u001b[0mres\u001b[0m \u001b[0;34m==\u001b[0m \u001b[0;34m'already loaded'\u001b[0m\u001b[0;34m:\u001b[0m\u001b[0;34m\u001b[0m\u001b[0m\n",
      "\u001b[0;32m/usr/lib/python3.6/site-packages/IPython/core/extensions.py\u001b[0m in \u001b[0;36mload_extension\u001b[0;34m(self, module_str)\u001b[0m\n\u001b[1;32m     83\u001b[0m             \u001b[0;32mif\u001b[0m \u001b[0mmodule_str\u001b[0m \u001b[0;32mnot\u001b[0m \u001b[0;32min\u001b[0m \u001b[0msys\u001b[0m\u001b[0;34m.\u001b[0m\u001b[0mmodules\u001b[0m\u001b[0;34m:\u001b[0m\u001b[0;34m\u001b[0m\u001b[0m\n\u001b[1;32m     84\u001b[0m                 \u001b[0;32mwith\u001b[0m \u001b[0mprepended_to_syspath\u001b[0m\u001b[0;34m(\u001b[0m\u001b[0mself\u001b[0m\u001b[0;34m.\u001b[0m\u001b[0mipython_extension_dir\u001b[0m\u001b[0;34m)\u001b[0m\u001b[0;34m:\u001b[0m\u001b[0;34m\u001b[0m\u001b[0m\n\u001b[0;32m---> 85\u001b[0;31m                     \u001b[0mmod\u001b[0m \u001b[0;34m=\u001b[0m \u001b[0mimport_module\u001b[0m\u001b[0;34m(\u001b[0m\u001b[0mmodule_str\u001b[0m\u001b[0;34m)\u001b[0m\u001b[0;34m\u001b[0m\u001b[0m\n\u001b[0m\u001b[1;32m     86\u001b[0m                     \u001b[0;32mif\u001b[0m \u001b[0mmod\u001b[0m\u001b[0;34m.\u001b[0m\u001b[0m__file__\u001b[0m\u001b[0;34m.\u001b[0m\u001b[0mstartswith\u001b[0m\u001b[0;34m(\u001b[0m\u001b[0mself\u001b[0m\u001b[0;34m.\u001b[0m\u001b[0mipython_extension_dir\u001b[0m\u001b[0;34m)\u001b[0m\u001b[0;34m:\u001b[0m\u001b[0;34m\u001b[0m\u001b[0m\n\u001b[1;32m     87\u001b[0m                         print((\"Loading extensions from {dir} is deprecated. \"\n",
      "\u001b[0;32m/usr/lib64/python3.6/importlib/__init__.py\u001b[0m in \u001b[0;36mimport_module\u001b[0;34m(name, package)\u001b[0m\n\u001b[1;32m    124\u001b[0m                 \u001b[0;32mbreak\u001b[0m\u001b[0;34m\u001b[0m\u001b[0m\n\u001b[1;32m    125\u001b[0m             \u001b[0mlevel\u001b[0m \u001b[0;34m+=\u001b[0m \u001b[0;36m1\u001b[0m\u001b[0;34m\u001b[0m\u001b[0m\n\u001b[0;32m--> 126\u001b[0;31m     \u001b[0;32mreturn\u001b[0m \u001b[0m_bootstrap\u001b[0m\u001b[0;34m.\u001b[0m\u001b[0m_gcd_import\u001b[0m\u001b[0;34m(\u001b[0m\u001b[0mname\u001b[0m\u001b[0;34m[\u001b[0m\u001b[0mlevel\u001b[0m\u001b[0;34m:\u001b[0m\u001b[0;34m]\u001b[0m\u001b[0;34m,\u001b[0m \u001b[0mpackage\u001b[0m\u001b[0;34m,\u001b[0m \u001b[0mlevel\u001b[0m\u001b[0;34m)\u001b[0m\u001b[0;34m\u001b[0m\u001b[0m\n\u001b[0m\u001b[1;32m    127\u001b[0m \u001b[0;34m\u001b[0m\u001b[0m\n\u001b[1;32m    128\u001b[0m \u001b[0;34m\u001b[0m\u001b[0m\n",
      "\u001b[0;32m/usr/lib64/python3.6/importlib/_bootstrap.py\u001b[0m in \u001b[0;36m_gcd_import\u001b[0;34m(name, package, level)\u001b[0m\n",
      "\u001b[0;32m/usr/lib64/python3.6/importlib/_bootstrap.py\u001b[0m in \u001b[0;36m_find_and_load\u001b[0;34m(name, import_)\u001b[0m\n",
      "\u001b[0;32m/usr/lib64/python3.6/importlib/_bootstrap.py\u001b[0m in \u001b[0;36m_find_and_load_unlocked\u001b[0;34m(name, import_)\u001b[0m\n",
      "\u001b[0;32m/usr/lib64/python3.6/importlib/_bootstrap.py\u001b[0m in \u001b[0;36m_call_with_frames_removed\u001b[0;34m(f, *args, **kwds)\u001b[0m\n",
      "\u001b[0;32m/usr/lib64/python3.6/importlib/_bootstrap.py\u001b[0m in \u001b[0;36m_gcd_import\u001b[0;34m(name, package, level)\u001b[0m\n",
      "\u001b[0;32m/usr/lib64/python3.6/importlib/_bootstrap.py\u001b[0m in \u001b[0;36m_find_and_load\u001b[0;34m(name, import_)\u001b[0m\n",
      "\u001b[0;32m/usr/lib64/python3.6/importlib/_bootstrap.py\u001b[0m in \u001b[0;36m_find_and_load_unlocked\u001b[0;34m(name, import_)\u001b[0m\n",
      "\u001b[0;31mModuleNotFoundError\u001b[0m: No module named 'rpy2'"
     ]
    }
   ],
   "source": [
    "%load_ext rpy2.ipython\n",
    "\n"
   ]
  },
  {
   "cell_type": "code",
   "execution_count": 1,
   "metadata": {
    "hideCode": false,
    "hidePrompt": false
   },
   "outputs": [
    {
     "data": {
      "application/vnd.jupyter.widget-view+json": {
       "model_id": "b8079adb109246e6bcb5a54bba350b26",
       "version_major": 2,
       "version_minor": 0
      },
      "text/html": [
       "<p>Failed to display Jupyter Widget of type <code>VBox</code>.</p>\n",
       "<p>\n",
       "  If you're reading this message in the Jupyter Notebook or JupyterLab Notebook, it may mean\n",
       "  that the widgets JavaScript is still loading. If this message persists, it\n",
       "  likely means that the widgets JavaScript library is either not installed or\n",
       "  not enabled. See the <a href=\"https://ipywidgets.readthedocs.io/en/stable/user_install.html\">Jupyter\n",
       "  Widgets Documentation</a> for setup instructions.\n",
       "</p>\n",
       "<p>\n",
       "  If you're reading this message in another frontend (for example, a static\n",
       "  rendering on GitHub or <a href=\"https://nbviewer.jupyter.org/\">NBViewer</a>),\n",
       "  it may mean that your frontend doesn't currently support widgets.\n",
       "</p>\n"
      ],
      "text/plain": [
       "VBox(children=(Label(value='Precursor tolerance (ppm):'), IntSlider(value=20, max=30, min=-10), Label(value='Fragment ion tolerance (da):'), BoundedFloatText(value=0.05, max=200.0), Label(value='Fasta file (database):'), Text(value='IN/sp_human.fasta'), Label(value='Quantification method:'), Dropdown(options={'iTRAQ4': 'iTRAQ 4-plex of K,iTRAQ 4-plex of Y,iTRAQ 4-plex of peptide N-term', 'TMT10': 'TMT 10-plex of K,TMT 10-plex of peptide N-term', 'iTRAQ8 (fixed)': 'iTRAQ 8-plex of K, iTRAQ 8-plex of peptide N-term', 'TMT6': 'TMT 6-plex of K,TMT 6-plex of peptide N-term', 'iTRAQ8 (variable)': 'iTRAQ 8-plex of Y'}, value='iTRAQ 4-plex of K,iTRAQ 4-plex of Y,iTRAQ 4-plex of peptide N-term'), Label(value='Number of miscleavages;'), IntSlider(value=1, max=10), Label(value='Further fixed modifications'), Dropdown(options=('Carbamidomethylation of C', 'None'), value='Carbamidomethylation of C'), Label(value='Further variable modifications'), Dropdown(options=('None', 'Oxidation of M', 'Phosphorylation of STY'), value='None'), Label(value='Folder for spectra files (files need to be mgf)'), Text(value='IN/')))"
      ]
     },
     "metadata": {},
     "output_type": "display_data"
    }
   ],
   "source": [
    "import ipywidgets as widgets\n",
    "from ipywidgets import VBox, Label\n",
    "\n",
    "w = widgets.IntSlider(min=-10,max=30,step=1,value=20)\n",
    "w2 = widgets.BoundedFloatText(min=0,max=200,value=0.05)\n",
    "w3 = widgets.Text(\"IN/sp_human.fasta\")\n",
    "# TODO  needs table to describe labeling formats\n",
    "w4 = widgets.Dropdown(options={'TMT10': 'TMT 10-plex of K,TMT 10-plex of peptide N-term',\n",
    "                               'TMT6': 'TMT 6-plex of K,TMT 6-plex of peptide N-term',\n",
    "                               'iTRAQ4': 'iTRAQ 4-plex of K,iTRAQ 4-plex of Y,iTRAQ 4-plex of peptide N-term',\n",
    "                               'iTRAQ8 (fixed)': 'iTRAQ 8-plex of K, iTRAQ 8-plex of peptide N-term',\n",
    "                               'iTRAQ8 (variable)': 'iTRAQ 8-plex of Y'})\n",
    "w5= widgets.IntSlider(min=0,max=10,step=1,value=1)\n",
    "w6 = widgets.Dropdown(options=[\"Carbamidomethylation of C\",\"None\"])\n",
    "w7 = widgets.Dropdown(options=[\"None\",\"Oxidation of M\",\"Phosphorylation of STY\"])\n",
    "w8 = widgets.Text(\"IN/\")\n",
    "\n",
    "ww = widgets.Checkbox(description=\"Decoy\")\n",
    "\n",
    "display(VBox([Label('Precursor tolerance (ppm):'), w, \n",
    "              Label('Fragment ion tolerance (da):'),w2,\n",
    "             Label('Fasta file (database):'),w3,\n",
    "             Label('Quantification method:'),w4,\n",
    "             Label('Number of miscleavages;'),w5,\n",
    "             Label('Further fixed modifications'),w6,\n",
    "             Label('Further variable modifications'),w7,\n",
    "             Label('Folder for spectra files (files need to be mgf)'),w8]))\n",
    "\n",
    "#TODO set names of samples and replicates (peptideshaker)\n"
   ]
  },
  {
   "cell_type": "code",
   "execution_count": 40,
   "metadata": {
    "hideCode": false,
    "hidePrompt": false
   },
   "outputs": [
    {
     "name": "stdout",
     "output_type": "stream",
     "text": [
      "Input: /home/biodocker/OUT/../IN/sp_human.fasta\n",
      "\n",
      "Name: sp_human\n",
      "Version: 21.12.2017\n",
      "Decoy Tag: null\n",
      "Type: UniProt\n",
      "Last modified: Thu Dec 21 15:38:04 UTC 2017\n",
      "Size: 20243 sequences\n",
      "\n",
      "Tue Jan 16 17:39:48 UTC 2018 Appending Decoy Sequences. Please Wait...\n",
      "10% 20% 30% 40% 50% 60% 70% 80% 90% 100%Reindexing: sp_human_concatenated_target_decoy.fasta.\n",
      "\n",
      "10% 20% 30% 40% 50% 60% 70% 80% 90%Decoy file successfully created: \n",
      "\n",
      "Output: /home/biodocker/OUT/../IN/sp_human_concatenated_target_decoy.fasta\n",
      "\n",
      "Name: sp_human_concatenated_target_decoy\n",
      "Version: 16.1.2018\n",
      "Decoy Tag: REVERSED\n",
      "Type: UniProt\n",
      "Last modified: Tue Jan 16 17:39:50 UTC 2018\n",
      "Size: 40486 sequences (20243 target)\n",
      "\n",
      "../IN/sp_human_concatenated_target_decoy.fasta\n",
      "\n",
      "Identification parameters file created: /home/biodocker/OUT/search.par\n",
      "\n"
     ]
    },
    {
     "name": "stderr",
     "output_type": "stream",
     "text": [
      "Reindexing: sp_human_concatenated_target_decoy.fasta. (changes in the file detected)\n",
      "bash: line 24: [: missing `]'\n"
     ]
    }
   ],
   "source": [
    "%%bash -s \"$w.value\" \"$w2.value\" \"$w3.value\" \"$w4.value\" \"$w5.value\" \"$w6.value\" \"$w7.value\" \"$w7.value\"\n",
    "function check_error {\n",
    "    RETURN_CODE=\"$1\"\n",
    "    MSG=\"$2\"\n",
    "\n",
    "    if [ \"${RETURN_CODE}\" != \"0\" ]; then\n",
    "        echo \"Error: $MSG\"\n",
    "        exit 1\n",
    "    fi\n",
    "}\n",
    "cd OUT\n",
    "java -cp /home/biodocker/bin/SearchGUI-*/SearchGUI-*.jar eu.isas.searchgui.cmd.FastaCLI -in \"../$3\" -decoy\n",
    "\n",
    "check_error $? \"Failed to create decoy database\"\n",
    "\n",
    "DECOY_FASTA=\"../${3%.*}_concatenated_target_decoy.fasta\"\n",
    "echo $DECOY_FASTA\n",
    "\n",
    "if [ ! -e ${DECOY_FASTA} ]; then\n",
    "    echo \"Failed to create decoy database\"\n",
    "    exit 1\n",
    "fi\n",
    "\n",
    "VAR_MODS=\"\"\n",
    "if [ $7 != \"None\"]; then\n",
    "    VAR_MODS=\"-variable_mods $7\"\n",
    "fi\n",
    "\n",
    "# ---- create parameter file for SearchGUI ----\n",
    "java -cp /home/biodocker/bin/SearchGUI-*/SearchGUI-*.jar \\\n",
    "eu.isas.searchgui.cmd.IdentificationParametersCLI -prec_tol $1 -frag_tol $2 \\\n",
    "-fixed_mods \"$4,$6\"  $VAR_MODS  -db \"${DECOY_FASTA}\" -out search.par -mc $5\n",
    "\n",
    "check_error $? \"Failed to create parameter file\"\n",
    "\n",
    "if [ ! -e \"search.par\" ]; then\n",
    "    echo \"Failed to create search parameters\"\n",
    "    exit 1\n",
    "fi\n",
    "\n"
   ]
  },
  {
   "cell_type": "code",
   "execution_count": 37,
   "metadata": {
    "hideCode": false,
    "hidePrompt": false
   },
   "outputs": [
    {
     "name": "stdout",
     "output_type": "stream",
     "text": [
      "IN/test.mgf\n",
      "Tue Jan 16 17:32:03 UTC 2018 Validating MGF file: /home/biodocker/OUT/../IN/test.mgf\n",
      "\n",
      "Tue Jan 16 17:32:04 UTC 2018 Indexing spectrum files.\n",
      "Tue Jan 16 17:32:04 UTC 2018 Extracting search settings.\n",
      "\n",
      "\n",
      "\n",
      "Processing: test.mgf (1/1)\n",
      "\n",
      "\n",
      "ms-gf+ command: \n",
      "/usr/lib/jvm/java-8-openjdk-amd64/jre/bin/java -jar /home/biodocker/bin/SearchGUI-2.8.6/resources/MS-GF+/MSGFPlus.jar -s /home/biodocker/OUT/../IN/test.mgf -d /home/biodocker/OUT/../IN/sp_human_concatenated_target_decoy.fasta -o /home/biodocker/OUT/./.SearchGUI_temp/test.msgf.mzid -t 20.0ppm -tda 0 -mod /home/biodocker/bin/SearchGUI-2.8.6/resources/MS-GF+/params/Mods.txt -minCharge 2 -maxCharge 4 -inst 3 -thread 4 -m 3 -e 1 -ntt 2 -protocol 0 -minLength 8 -maxLength 30 -n 10 -addFeatures 0 -ti 0,1 \n",
      "\n",
      "Tue Jan 16 17:32:04 UTC 2018 Processing test.mgf with MS-GF+.\n",
      "\n",
      "MS-GF+ Beta (v10282) (12/19/2014)\n",
      "Loading database files...\n",
      "Loading database finished (elapsed time: 4.76 sec)\n",
      "Reading spectra...\n",
      "Ignoring 0 profile spectra.\n",
      "Ignoring 0 spectra having less than 10 peaks.\n",
      "Reading spectra finished (elapsed time: 5.26 sec)\n",
      "Using 2 threads.\n",
      "Search Parameters:\n",
      "\tPrecursorMassTolerance: 20.0ppm\n",
      "\tIsotopeError: 0,1\n",
      "\tTargetDecoyAnalysis: false\n",
      "\tFragmentationMethod: HCD\n",
      "\tInstrument: QExactive\n",
      "\tEnzyme: Tryp\n",
      "\tProtocol: TMT\n",
      "\tNumTolerableTermini: 2\n",
      "\tMinPeptideLength: 8\n",
      "\tMaxPeptideLength: 30\n",
      "\tNumMatchesPerSpec: 10\n",
      "Spectrum 0-1503 (total: 1504)\n",
      "pool-1-thread-2: Preprocessing spectra...\n",
      "Loading built-in param file: HCD_QExactive_Tryp_TMT.param\n",
      "pool-1-thread-1: Preprocessing spectra...\n",
      "Loading built-in param file: HCD_QExactive_Tryp_TMT.param\n",
      "pool-1-thread-2: Preprocessing spectra finished (elapsed time: 3.00 sec)\n",
      "pool-1-thread-2: Database search...\n",
      "pool-1-thread-2: Database search progress... 0.0% complete\n",
      "pool-1-thread-1: Preprocessing spectra finished (elapsed time: 3.00 sec)\n",
      "pool-1-thread-1: Database search...\n",
      "pool-1-thread-1: Database search progress... 0.0% complete\n",
      "pool-1-thread-2: Database search progress... 8.8% complete\n",
      "pool-1-thread-1: Database search progress... 8.8% complete\n",
      "pool-1-thread-2: Database search progress... 17.6% complete\n",
      "pool-1-thread-1: Database search progress... 17.6% complete\n",
      "pool-1-thread-2: Database search progress... 26.4% complete\n",
      "pool-1-thread-2: Database search progress... 35.2% complete\n",
      "pool-1-thread-1: Database search progress... 26.4% complete\n",
      "pool-1-thread-1: Database search progress... 35.2% complete\n",
      "pool-1-thread-2: Database search progress... 44.0% complete\n",
      "pool-1-thread-2: Database search progress... 52.8% complete\n",
      "pool-1-thread-2: Database search progress... 61.6% complete\n",
      "pool-1-thread-2: Database search progress... 70.4% complete\n",
      "pool-1-thread-1: Database search progress... 44.0% complete\n",
      "pool-1-thread-1: Database search progress... 52.8% complete\n",
      "pool-1-thread-1: Database search progress... 61.6% complete\n",
      "pool-1-thread-1: Database search progress... 70.4% complete\n",
      "pool-1-thread-2: Database search progress... 79.2% complete\n",
      "pool-1-thread-2: Database search progress... 88.0% complete\n",
      "pool-1-thread-2: Database search progress... 96.9% complete\n",
      "pool-1-thread-2: Database search finished (elapsed time: 23.00 sec)\n",
      "pool-1-thread-2: Computing spectral E-values...\n",
      "pool-1-thread-1: Database search progress... 79.2% complete\n",
      "pool-1-thread-1: Database search progress... 88.0% complete\n",
      "pool-1-thread-1: Database search progress... 96.9% complete\n",
      "pool-1-thread-1: Database search finished (elapsed time: 25.00 sec)\n",
      "pool-1-thread-1: Computing spectral E-values...\n",
      "pool-1-thread-2: Computing spectral E-values finished (elapsed time: 14.00 sec)\n",
      "pool-1-thread-1: Computing spectral E-values finished (elapsed time: 15.00 sec)\n",
      "Writing results...\n",
      "Writing results finished (elapsed time: 2.61 sec)\n",
      "MS-GF+ complete (total elapsed time: 52.57 sec)\n",
      "\n",
      "\n",
      "Tue Jan 16 17:32:57 UTC 2018 MS-GF+ finished for /home/biodocker/OUT/../IN/test.mgf (52.773 seconds).\n",
      "\n",
      "Tue Jan 16 17:32:57 UTC 2018 Zipping output files.\n",
      "\n",
      "10% 20% 30% 40% 50% 60% 70% 80% 90%\n",
      "Tue Jan 16 17:32:57 UTC 2018 Search Completed (53.031 seconds).\n",
      "\n",
      "\n",
      "\n",
      "Search Completed.\n",
      "\n"
     ]
    }
   ],
   "source": [
    "%%bash -s \"$w8.value\"\n",
    "function check_error {\n",
    "    RETURN_CODE=\"$1\"\n",
    "    MSG=\"$2\"\n",
    "\n",
    "    if [ \"${RETURN_CODE}\" != \"0\" ]; then\n",
    "        echo \"Error: $MSG\"\n",
    "        exit 1\n",
    "    fi\n",
    "}\n",
    "FILE_LIST=$(ls $1)\n",
    "echo $FILE_LIST\n",
    "cd OUT\n",
    "\n",
    "# Run Search\n",
    "java -cp /home/biodocker/bin/SearchGUI-*/SearchGUI-*.jar eu.isas.searchgui.cmd.SearchCLI \\\n",
    "-spectrum_files ../$1  -output_folder ./  -id_params search.par -xtandem 0 -msgf 1 \\\n",
    "-comet 0 -ms_amanda 0 -myrimatch 0 -andromeda 0 -omssa 0 -tide 0\n",
    "check_error $? \"Search failed.\"\n"
   ]
  },
  {
   "cell_type": "code",
   "execution_count": null,
   "metadata": {
    "hideCode": false,
    "hidePrompt": false,
    "scrolled": true
   },
   "outputs": [],
   "source": [
    "#TODO, some visualizations + numbers (e.g. number of spectra, ...)"
   ]
  },
  {
   "cell_type": "code",
   "execution_count": 48,
   "metadata": {
    "hideCode": false,
    "hidePrompt": false
   },
   "outputs": [
    {
     "name": "stdout",
     "output_type": "stream",
     "text": [
      "PeptideShaker Report experiment.cpsx 2018-01-16 17.52.32.html\n",
      "SearchGUI Report 2018-01-16 15.29.49.html\n",
      "SearchGUI Report 2018-01-16 17.32.57.html\n",
      "derby.log\n",
      "experiment.cpsx\n",
      "resources\n",
      "search.par\n",
      "searchgui_out.zip\n",
      "Tue Jan 16 18:03:27 UTC 2018 Unzipping searchgui_out.zip.\n",
      "10% 20% 30% 40% 50% 60% 70% 80% 90% 100%\n",
      "\n",
      "Tue Jan 16 18:03:27 UTC 2018 Import process for experiment1 (Sample: test, Replicate: 1)\n",
      "\n",
      "Tue Jan 16 18:03:27 UTC 2018 Importing sequences from sp_human_concatenated_target_decoy.fasta.\n",
      "Tue Jan 16 18:03:29 UTC 2018 FASTA file import completed.\n",
      "Tue Jan 16 18:03:29 UTC 2018 Importing gene mappings.\n",
      "Tue Jan 16 18:03:31 UTC 2018 Establishing local database connection.\n",
      "Tue Jan 16 18:03:36 UTC 2018 Reading identification files.\n",
      "Tue Jan 16 18:03:36 UTC 2018 Parsing test.msgf.mzid.\n",
      "10% 20% 30% 40% 50% 60% 70% 80% 90% 100%\n",
      "Tue Jan 16 18:03:36 UTC 2018 Loading spectra for test.msgf.mzid.\n",
      "Tue Jan 16 18:03:36 UTC 2018 Importing test.mgf\n",
      "Tue Jan 16 18:03:36 UTC 2018 test.mgf imported.\n",
      "10% 20% 30% 40% 50% 60% 70% 80% 90%\n",
      "Tue Jan 16 18:03:36 UTC 2018 Collecting peptides to map.\n",
      "10% 20% 30% 40% 50% 60% 70% 80% 90% 100%\n",
      "Tue Jan 16 18:03:36 UTC 2018 Mapping peptides to proteins.\n",
      "10% 20% 30% 40% 50% 60% 70% 80% 90% 100%\n",
      "Tue Jan 16 18:03:47 UTC 2018 Importing PSMs from test.msgf.mzid\n",
      "10% 20% 30% 40% 50% 60% 70% 80% 90% 100%\n",
      "Tue Jan 16 18:03:49 UTC 2018 1 identified spectra (0.2%) did not present a valid peptide.\n",
      "Tue Jan 16 18:03:49 UTC 2018 5 of the best scoring peptides were excluded by the import filters:\n",
      "Tue Jan 16 18:03:49 UTC 2018     - 100.0% peptide mapping to both target and decoy.\n",
      "Tue Jan 16 18:03:49 UTC 2018 File import completed. 446 first hits imported (3720 secondary) from 1504 spectra.\n",
      "Tue Jan 16 18:03:49 UTC 2018 [446 first hits passed the initial filtering]\n",
      "Tue Jan 16 18:03:49 UTC 2018 Computing assumptions probabilities.\n",
      "10% 20% 30% 40% 50% 60% 70% 80% 90% 100% 110% 120% 130% 140% 150% 160% 170% 180% 190% 200%\n",
      "Tue Jan 16 18:03:49 UTC 2018 Saving assumptions probabilities.\n",
      "10% 20% 30% 40% 50% 60% 70% 80% 90%\n",
      "Tue Jan 16 18:03:49 UTC 2018 Selecting best peptide per spectrum.\n",
      "10% 20% 30% 40% 50% 60% 70% 80% 90%\n",
      "Tue Jan 16 18:03:49 UTC 2018 Computing PSM probabilities.\n",
      "10% 20% 30% 40%\n",
      "Tue Jan 16 18:03:49 UTC 2018 Scoring PTMs in PSMs (D-score and PhosphoRS)\n",
      "Tue Jan 16 18:03:49 UTC 2018 Scoring PSM PTMs. Please Wait...\n",
      "10% 20% 30% 40% 50% 60% 70% 80% 90%\n",
      "Tue Jan 16 18:03:49 UTC 2018 Resolving peptide inference issues.\n",
      "Tue Jan 16 18:03:49 UTC 2018 Peptide Inference. Please Wait...\n",
      "10% 20% 30% 40% 50% 60% 70% 80% 90%\n",
      "Tue Jan 16 18:03:49 UTC 2018 Saving probabilities, building peptides and proteins.\n",
      "Tue Jan 16 18:03:49 UTC 2018 Attaching Spectrum Probabilities - Building Peptides and Proteins. Please Wait...\n",
      "10% 20% 30% 40% 50% 60% 70% 80% 90%\n",
      "Tue Jan 16 18:03:49 UTC 2018 Simplifying protein groups.\n",
      "Tue Jan 16 18:03:49 UTC 2018 Symplifying Protein Groups. Please Wait...\n",
      "Tue Jan 16 18:03:49 UTC 2018 Generating peptide map.\n",
      "Tue Jan 16 18:03:49 UTC 2018 Filling Peptide Maps. Please Wait...\n",
      "10% 20% 30% 40%\n",
      "Tue Jan 16 18:03:49 UTC 2018 Computing peptide probabilities.\n",
      "Tue Jan 16 18:03:49 UTC 2018 Estimating Probabilities. Please Wait...\n",
      "10% 20% 30% 50% 60% 70% 80% 100% 110%\n",
      "Tue Jan 16 18:03:49 UTC 2018 Saving peptide probabilities.\n",
      "Tue Jan 16 18:03:49 UTC 2018 Attaching Peptide Probabilities. Please Wait...\n",
      "10% 20% 30% 40% 50% 60% 70% 80% 90%\n",
      "Tue Jan 16 18:03:49 UTC 2018 Generating protein map.\n",
      "Tue Jan 16 18:03:49 UTC 2018 Filling Protein Map. Please Wait...\n",
      "10% 20% 30% 40% 50% 60% 70% 80% 90%\n",
      "Tue Jan 16 18:03:49 UTC 2018 Resolving protein inference issues, inferring peptide and protein PI status.\n",
      "Tue Jan 16 18:03:49 UTC 2018 Simplifying Redundant Protein Groups. Please Wait...\n",
      "10% 20% 30% 50%\n",
      "Tue Jan 16 18:03:50 UTC 2018 12 conflicts resolved. 16 protein groups remaining (4 suspicious).\n",
      "Tue Jan 16 18:03:50 UTC 2018 Correcting protein probabilities.\n",
      "Tue Jan 16 18:03:50 UTC 2018 Estimating Probabilities. Please Wait...\n",
      "10% 60% 100%\n",
      "Tue Jan 16 18:03:50 UTC 2018 Saving protein probabilities.\n",
      "Tue Jan 16 18:03:50 UTC 2018 Attaching Protein Probabilities. Please Wait...\n",
      "10% 20% 30% 40% 50% 60% 70% 80% 90%\n",
      "Tue Jan 16 18:03:50 UTC 2018 Validating identifications at 1% FDR, quality control of matches.\n",
      "Tue Jan 16 18:03:50 UTC 2018 Finding FDR Thresholds. Please Wait...\n",
      "10% 60% 100% 130%\n",
      "Tue Jan 16 18:03:50 UTC 2018 Match Validation and Quality Control. Please Wait...\n",
      "10% 20% 30% 40% 50% 60% 70% 80% 90% 100%\n",
      "Tue Jan 16 18:03:50 UTC 2018 Scoring PTMs in peptides.\n",
      "Tue Jan 16 18:03:50 UTC 2018 Scoring Peptide PTMs. Please Wait...\n",
      "10% 20% 30% 40% 50% 60% 70% 80% 90%\n",
      "Tue Jan 16 18:03:50 UTC 2018 Scoring PTMs in proteins.\n",
      "Tue Jan 16 18:03:50 UTC 2018 Scoring Protein PTMs. Please Wait...\n",
      "10% 20% 30% 40% 50% 60% 70% 80% 90%\n",
      "Tue Jan 16 18:03:50 UTC 2018 Identification processing completed (22.77 seconds).\n",
      "\n",
      "\n",
      "Tue Jan 16 18:03:50 UTC 2018 Project successfully created.\n",
      "Tue Jan 16 18:03:50 UTC 2018 Saving results.\n",
      "10% 20% 30% 40% 50% 60% 70% 80% 90%\n",
      "Tue Jan 16 18:04:07 UTC 2018 Results saved to /home/biodocker/OUT/./experiment.cpsx.\n",
      "\n",
      "\n",
      "Tue Jan 16 18:04:08 UTC 2018 PeptideShaker process completed.\n",
      "Tue Jan 16 18:04:08 UTC 2018 Processing Completed.\n",
      "10% 20% 30% 40% 70% 80% 90%\n",
      "Tue Jan 16 18:04:11 UTC 2018 Protein database sp_human_concatenated_target_decoy.fasta.\n",
      "Tue Jan 16 18:04:11 UTC 2018 Spectrum file(s) successfully loaded.\n",
      "Tue Jan 16 18:04:11 UTC 2018 Exporting. Please Wait...\n",
      "10% 20% 30% 40% 50% 60% 70% 80% 90% 100%\n",
      "Tue Jan 16 18:04:13 UTC 2018 Report export completed.\n"
     ]
    }
   ],
   "source": [
    "%%bash -s \"$w8.value\"\n",
    "function check_error {\n",
    "    RETURN_CODE=\"$1\"\n",
    "    MSG=\"$2\"\n",
    "\n",
    "    if [ \"${RETURN_CODE}\" != \"0\" ]; then\n",
    "        echo \"Error: $MSG\"\n",
    "        exit 1\n",
    "    fi\n",
    "}\n",
    "\n",
    "cd OUT\n",
    "ls\n",
    "\n",
    "# ---- PeptideShaker ----\n",
    "java -Xmx4G  -cp /home/biodocker/bin/PeptideShaker-*/PeptideShaker-*.jar \\\n",
    "eu.isas.peptideshaker.cmd.PeptideShakerCLI -experiment experiment1 \\\n",
    "-sample test -replicate 1 -identification_files './'  -out ./experiment.cpsx \\\n",
    "-id_params search.par -spectrum_files  \"../$1\"\n",
    "\n",
    "check_error $? \"Failed to run PeptideShaker\"\n",
    "\n",
    "java -cp /home/biodocker/bin/PeptideShaker-*/PeptideShaker-*.jar \\\n",
    "eu.isas.peptideshaker.cmd.ReportCLI -in \"experiment.cpsx\" -out_reports \"./\" -reports \"8\"\n"
   ]
  },
  {
   "cell_type": "code",
   "execution_count": 6,
   "metadata": {
    "hideCode": false,
    "hidePrompt": false
   },
   "outputs": [
    {
     "name": "stdout",
     "output_type": "stream",
     "text": [
      "[1] \"Loaded 446 PSMs\"\n",
      "      X Protein.s.  Sequence Variable.Modifications\n",
      "25   25     Q9BQE5  HDKDQQHR                     NA\n",
      "77   77     Q9BQE5  HDKDQQHR                     NA\n",
      "131 131     Q8N3Z6  SSHYHTSR                     NA\n",
      "280 280     P25942  ETHCHQHK                     NA\n",
      "366 366     O60885 RQEQQQQQR                     NA\n",
      "413 413     P46776 GHVSHGHGR                     NA\n",
      "                                                                    Fixed.Modifications\n",
      "25                                TMT 10-plex of K(3), TMT 10-plex of peptide N-term(1)\n",
      "77                                TMT 10-plex of K(3), TMT 10-plex of peptide N-term(1)\n",
      "131                                                    TMT 10-plex of peptide N-term(1)\n",
      "280 Carbamidomethylation of C(4), TMT 10-plex of K(8), TMT 10-plex of peptide N-term(1)\n",
      "366                                                    TMT 10-plex of peptide N-term(1)\n",
      "413                                                    TMT 10-plex of peptide N-term(1)\n",
      "    Spectrum.File\n",
      "25       test.mgf\n",
      "77       test.mgf\n",
      "131      test.mgf\n",
      "280      test.mgf\n",
      "366      test.mgf\n",
      "413      test.mgf\n",
      "                                                               Spectrum.Title\n",
      "25  20170424_Lumos_RSLC3_Maurer_Hartl_UW_MFPL_shotgun_TMT1_global_Fr10.2600.4\n",
      "77  20170424_Lumos_RSLC3_Maurer_Hartl_UW_MFPL_shotgun_TMT1_global_Fr10.2591.3\n",
      "131 20170424_Lumos_RSLC3_Maurer_Hartl_UW_MFPL_shotgun_TMT1_global_Fr10.2460.3\n",
      "280 20170424_Lumos_RSLC3_Maurer_Hartl_UW_MFPL_shotgun_TMT1_global_Fr10.2674.3\n",
      "366 20170424_Lumos_RSLC3_Maurer_Hartl_UW_MFPL_shotgun_TMT1_global_Fr10.2217.3\n",
      "413  20170424_Lumos_RSLC3_Maurer_Hartl_UW_MFPL_shotgun_TMT1_global_Fr10.947.3\n",
      "    Spectrum.Scan.Number       RT      m.z Measured.Charge\n",
      "25                    NA 617.2134 381.2126              4+\n",
      "77                    NA 615.6353 507.9481              3+\n",
      "131                   NA 590.7111 401.8738              3+\n",
      "280                   NA 632.2867 512.2698              3+\n",
      "366                   NA 542.9642 486.5974              3+\n",
      "413                   NA 280.4305 391.5461              3+\n",
      "    Identification.Charge Theoretical.Mass Isotope.Number\n",
      "25                     4+         1520.821              0\n",
      "77                     3+         1520.821              0\n",
      "131                    3+         1202.600              0\n",
      "280                    3+         1533.788              0\n",
      "366                    3+         1456.770              0\n",
      "413                    3+         1171.616              0\n",
      "    Precursor.m.z.Error..ppm. Decoy Localization.Confidence\n",
      "25                -0.08645847     0                      NA\n",
      "77                 0.76332346     0                      NA\n",
      "131               -0.01267604     0                      NA\n",
      "280               -0.08350937     0                      NA\n",
      "366                0.49424531     0                      NA\n",
      "413                0.12495713     0                      NA\n",
      "    Probabilistic.PTM.score D.score Confidence.... Validation\n",
      "25                       NA      NA            100   Doubtful\n",
      "77                       NA      NA            100   Doubtful\n",
      "131                      NA      NA            100   Doubtful\n",
      "280                      NA      NA            100   Doubtful\n",
      "366                      NA      NA            100   Doubtful\n",
      "413                      NA      NA            100   Doubtful\n",
      "Error in readIBSpectra(quant.method, \"t.corr.csv\", mgf.files, decode.titles = T) : \n",
      "  could not find function \"readIBSpectra\"\n"
     ]
    },
    {
     "name": "stderr",
     "output_type": "stream",
     "text": [
      "/usr/local/lib/python3.5/dist-packages/rpy2/rinterface/__init__.py:145: RRuntimeWarning: Loading required package: isobar\n",
      "\n",
      "  warnings.warn(x, RRuntimeWarning)\n",
      "/usr/local/lib/python3.5/dist-packages/rpy2/rinterface/__init__.py:145: RRuntimeWarning: Loaded 446 PSMs\n",
      "\n",
      "  warnings.warn(x, RRuntimeWarning)\n",
      "/usr/local/lib/python3.5/dist-packages/rpy2/rinterface/__init__.py:145: RRuntimeWarning: Filtered 11 PSMs @ 0.01 FDR\n",
      "\n",
      "  warnings.warn(x, RRuntimeWarning)\n",
      "/usr/local/lib/python3.5/dist-packages/rpy2/rinterface/__init__.py:145: RRuntimeWarning: Error in readIBSpectra(quant.method, \"t.corr.csv\", mgf.files, decode.titles = T) : \n",
      "  could not find function \"readIBSpectra\"\n",
      "\n",
      "  warnings.warn(x, RRuntimeWarning)\n",
      "/usr/local/lib/python3.5/dist-packages/rpy2/rinterface/__init__.py:145: RRuntimeWarning: In addition: \n",
      "  warnings.warn(x, RRuntimeWarning)\n",
      "/usr/local/lib/python3.5/dist-packages/rpy2/rinterface/__init__.py:145: RRuntimeWarning: Warning message:\n",
      "\n",
      "  warnings.warn(x, RRuntimeWarning)\n",
      "/usr/local/lib/python3.5/dist-packages/rpy2/rinterface/__init__.py:145: RRuntimeWarning: In library(package, lib.loc = lib.loc, character.only = TRUE, logical.return = TRUE,  :\n",
      "  warnings.warn(x, RRuntimeWarning)\n",
      "/usr/local/lib/python3.5/dist-packages/rpy2/rinterface/__init__.py:145: RRuntimeWarning: \n",
      " \n",
      "  warnings.warn(x, RRuntimeWarning)\n",
      "/usr/local/lib/python3.5/dist-packages/rpy2/rinterface/__init__.py:145: RRuntimeWarning:  there is no package called 'isobar'\n",
      "\n",
      "  warnings.warn(x, RRuntimeWarning)\n"
     ]
    }
   ],
   "source": [
    "%%R require(isobar)\n",
    "\n",
    "# TODO load parameters \"%%R -i parname\"\n",
    "# process the input files\n",
    "max.fdr <- 0.01\n",
    "quant.method <- \"TMT10plexSpectra\"\n",
    "class.labels <- c(\"A\", \"B\", \"C\", \"D\", \"E\", \"F\", \"G\", \"H\", \"I\", \"J\")\n",
    "args <- commandArgs(trailingOnly = TRUE)\n",
    "\n",
    "ident.file <- \"OUT/experiment1_test_1_Extended_PSM_Report.txt\"\n",
    "mgf.files <- system(\"ls IN/*.mgf\", intern=T)\n",
    "\n",
    "if (!file.exists(ident.file)) {\n",
    "    stop(\"Error: Cannot find identification file \", ident.file)\n",
    "}\n",
    "for (mgf.file in mgf.files) {\n",
    "    if (!file.exists(mgf.file)) {\n",
    "        stop(\"Error: Cannot find MGF file \", mgf.file)\n",
    "    }\n",
    "}\n",
    "\n",
    "# Convert SearchGUI output to isobar format\n",
    "psms <- read.csv(ident.file, sep = \"\\t\")\n",
    "\n",
    "if (! \"Decoy\" %in% names(psms)) {\n",
    "    stop(\"Error: No decoy information available in output file\")\n",
    "}\n",
    "\n",
    "print(paste(\"Loaded\",nrow(psms), \"PSMs\"))\n",
    "message(\"Loaded \", nrow(psms), \" PSMs\")\n",
    "\n",
    "# ---- Confidence filter ----\n",
    "psms <- psms[order(psms[, \"Confidence....\"], decreasing = T), ]\n",
    "decoy.psms <- which(psms[, \"Decoy\"] == \"1\")\n",
    "\n",
    "decoy.count <- 0\n",
    "\n",
    "for (decoy.index in decoy.psms) {\n",
    "    decoy.count <- decoy.count + 1\n",
    "    target.count <- decoy.index - decoy.count\n",
    "\n",
    "    cur.fdr <- (decoy.count * 2) / (decoy.count + target.count)\n",
    "\n",
    "    if (cur.fdr > max.fdr) {\n",
    "        # filter\n",
    "        psms <- psms[1:decoy.index - 1,]\n",
    "        break\n",
    "    }\n",
    "}\n",
    "\n",
    "print(head(psms))\n",
    "\n",
    "message(\"Filtered \", nrow(psms), \" PSMs @ \", max.fdr, \" FDR\")\n",
    "\n",
    "# ---- convert to isobar output ----\n",
    "cols.to.save <- c(\"Protein.s.\", \"Sequence\", \"Spectrum.Title\", \"Variable.Modifications\", \"Confidence....\", \"D.score\", \"Validation\", \"Precursor.m.z.Error..ppm.\", \"Spectrum.File\")\n",
    "\n",
    "if (!all(cols.to.save %in% colnames(psms))) {\n",
    "    stop(\"Error: Unexpected result format\")\n",
    "}\n",
    "\n",
    "psms <- psms[, cols.to.save]\n",
    "colnames(psms) <- c(\"accession\", \"peptide\", \"spectrum\", \"var_mod\", \"pepscore\", \"dscore\", \"validation\", \n",
    "\"precursor.mz.error.ppm\", \"file\")\n",
    "\n",
    "# TODO: add modif...\n",
    "psms$modif <- \"\"\n",
    "\n",
    "write.table(psms, file = \"t.corr.csv\", sep = \"\\t\", row.names = F, quote = F)\n",
    "\n",
    "# ---- isobar workflow ----\n",
    "ib <- readIBSpectra(quant.method, \"t.corr.csv\", mgf.files, decode.titles = T)\n",
    "\n",
    "ib <- correctIsotopeImpurities(ib)\n",
    "ib <- normalize(ib)\n",
    "\n"
   ]
  },
  {
   "cell_type": "code",
   "execution_count": null,
   "metadata": {},
   "outputs": [],
   "source": []
  }
 ],
 "metadata": {
  "celltoolbar": "Hide code",
  "hide_code_all_hidden": false,
  "kernelspec": {
   "display_name": "Python 3",
   "language": "python",
   "name": "python3"
  },
  "language_info": {
   "codemirror_mode": {
    "name": "ipython",
    "version": 3
   },
   "file_extension": ".py",
   "mimetype": "text/x-python",
   "name": "python",
   "nbconvert_exporter": "python",
   "pygments_lexer": "ipython3",
   "version": "3.6.4"
  },
  "widgets": {
   "application/vnd.jupyter.widget-state+json": {
    "state": {
     "006c0d6bdab445ed9513c0108a94acc9": {
      "model_module": "@jupyter-widgets/base",
      "model_module_version": "1.0.0",
      "model_name": "LayoutModel",
      "state": {}
     },
     "0f515c445e364810b05793012fa2fc69": {
      "model_module": "@jupyter-widgets/base",
      "model_module_version": "1.0.0",
      "model_name": "LayoutModel",
      "state": {}
     },
     "118c45d46fe542f4bb3f3ad400afeb43": {
      "model_module": "@jupyter-widgets/controls",
      "model_module_version": "1.1.0",
      "model_name": "SliderStyleModel",
      "state": {
       "description_width": ""
      }
     },
     "1354d14a8ca146b991345957a558ab71": {
      "model_module": "@jupyter-widgets/controls",
      "model_module_version": "1.1.0",
      "model_name": "DescriptionStyleModel",
      "state": {
       "description_width": ""
      }
     },
     "17f5580f05c3462992b23330753f2349": {
      "model_module": "@jupyter-widgets/base",
      "model_module_version": "1.0.0",
      "model_name": "LayoutModel",
      "state": {}
     },
     "1a715686ce7c473aa2d2902f1f0aa6ae": {
      "model_module": "@jupyter-widgets/controls",
      "model_module_version": "1.1.0",
      "model_name": "IntSliderModel",
      "state": {
       "layout": "IPY_MODEL_0f515c445e364810b05793012fa2fc69",
       "max": 30,
       "min": -10,
       "style": "IPY_MODEL_118c45d46fe542f4bb3f3ad400afeb43",
       "value": 20
      }
     },
     "1c43d93c7e7446cbbd37c0a3f65a8173": {
      "model_module": "@jupyter-widgets/controls",
      "model_module_version": "1.1.0",
      "model_name": "LabelModel",
      "state": {
       "layout": "IPY_MODEL_68f71112034a4e84ab8abe8a5c74a8b2",
       "style": "IPY_MODEL_1354d14a8ca146b991345957a558ab71",
       "value": "Precursor tolerance (ppm):"
      }
     },
     "1e06ec7b7e0a4c6f8dd50b698588dc8a": {
      "model_module": "@jupyter-widgets/controls",
      "model_module_version": "1.1.0",
      "model_name": "TextModel",
      "state": {
       "layout": "IPY_MODEL_7f9e8115de004a38817feff8c26d532d",
       "style": "IPY_MODEL_fdb1fc49cad94d3db1b3008b51b330ba",
       "value": "IN/sp_human.fasta"
      }
     },
     "1e3ec101d8b341ffbf8a6a2beabd8359": {
      "model_module": "@jupyter-widgets/controls",
      "model_module_version": "1.1.0",
      "model_name": "DescriptionStyleModel",
      "state": {
       "description_width": ""
      }
     },
     "26658e256d08427697b62931ca6dfc91": {
      "model_module": "@jupyter-widgets/controls",
      "model_module_version": "1.1.0",
      "model_name": "TextModel",
      "state": {
       "layout": "IPY_MODEL_86860e61005c4a87a488f1603913afdb",
       "style": "IPY_MODEL_2d494be0e4464bb99922b6fb02311453",
       "value": "IN/"
      }
     },
     "274aa9f17b8346479cfd294b7feed009": {
      "model_module": "@jupyter-widgets/controls",
      "model_module_version": "1.1.0",
      "model_name": "DescriptionStyleModel",
      "state": {
       "description_width": ""
      }
     },
     "2d494be0e4464bb99922b6fb02311453": {
      "model_module": "@jupyter-widgets/controls",
      "model_module_version": "1.1.0",
      "model_name": "DescriptionStyleModel",
      "state": {
       "description_width": ""
      }
     },
     "3d8f39374f184cbfade7c645c2aad625": {
      "model_module": "@jupyter-widgets/controls",
      "model_module_version": "1.1.0",
      "model_name": "SliderStyleModel",
      "state": {
       "description_width": ""
      }
     },
     "3fdf8623c3654bc3a311b198285c12dc": {
      "model_module": "@jupyter-widgets/controls",
      "model_module_version": "1.1.0",
      "model_name": "IntSliderModel",
      "state": {
       "layout": "IPY_MODEL_8d40a0c2c6c74f1cb304fc58614439df",
       "max": 10,
       "style": "IPY_MODEL_3d8f39374f184cbfade7c645c2aad625",
       "value": 1
      }
     },
     "41aedf5b8f4f4d4fb3a4bc69b6ed1962": {
      "model_module": "@jupyter-widgets/controls",
      "model_module_version": "1.1.0",
      "model_name": "DropdownModel",
      "state": {
       "_options_labels": [
        "None",
        "Oxidation of M",
        "Phosphorylation of STY"
       ],
       "index": 0,
       "layout": "IPY_MODEL_e209b12adf2546b690281df4824e136a",
       "style": "IPY_MODEL_8300aa906f5e44f89d1665b6ab2c191c"
      }
     },
     "42fe80e038e241edb86dda31e55826c5": {
      "model_module": "@jupyter-widgets/controls",
      "model_module_version": "1.1.0",
      "model_name": "LabelModel",
      "state": {
       "layout": "IPY_MODEL_97546e8f97054188b851c46cf4504772",
       "style": "IPY_MODEL_57d25e79b9d44c269c9365c0452090a6",
       "value": "Further fixed modifications"
      }
     },
     "46ccdc37769c400580fbb61a22d99d85": {
      "model_module": "@jupyter-widgets/base",
      "model_module_version": "1.0.0",
      "model_name": "LayoutModel",
      "state": {}
     },
     "4af07a1a596f42709f9c6087db11736c": {
      "model_module": "@jupyter-widgets/controls",
      "model_module_version": "1.1.0",
      "model_name": "DescriptionStyleModel",
      "state": {
       "description_width": ""
      }
     },
     "4f0ffd76fc30424899fec38160888119": {
      "model_module": "@jupyter-widgets/controls",
      "model_module_version": "1.1.0",
      "model_name": "DescriptionStyleModel",
      "state": {
       "description_width": ""
      }
     },
     "51e1b418477d474aa16fb37d49687abc": {
      "model_module": "@jupyter-widgets/controls",
      "model_module_version": "1.1.0",
      "model_name": "LabelModel",
      "state": {
       "layout": "IPY_MODEL_54eb327e549a47f9918081c32d2dc141",
       "style": "IPY_MODEL_274aa9f17b8346479cfd294b7feed009",
       "value": "Further variable modifications"
      }
     },
     "54eb327e549a47f9918081c32d2dc141": {
      "model_module": "@jupyter-widgets/base",
      "model_module_version": "1.0.0",
      "model_name": "LayoutModel",
      "state": {}
     },
     "57d25e79b9d44c269c9365c0452090a6": {
      "model_module": "@jupyter-widgets/controls",
      "model_module_version": "1.1.0",
      "model_name": "DescriptionStyleModel",
      "state": {
       "description_width": ""
      }
     },
     "5e967dd8495b44f7b8e0c25c7f77a648": {
      "model_module": "@jupyter-widgets/base",
      "model_module_version": "1.0.0",
      "model_name": "LayoutModel",
      "state": {}
     },
     "622a973c66674f1db846bba40719ded3": {
      "model_module": "@jupyter-widgets/base",
      "model_module_version": "1.0.0",
      "model_name": "LayoutModel",
      "state": {}
     },
     "68f71112034a4e84ab8abe8a5c74a8b2": {
      "model_module": "@jupyter-widgets/base",
      "model_module_version": "1.0.0",
      "model_name": "LayoutModel",
      "state": {}
     },
     "6ddc43e660f24d2bb4f74cb0627c177a": {
      "model_module": "@jupyter-widgets/controls",
      "model_module_version": "1.1.0",
      "model_name": "DropdownModel",
      "state": {
       "_options_labels": [
        "iTRAQ4",
        "TMT10",
        "iTRAQ8 (fixed)",
        "TMT6",
        "iTRAQ8 (variable)"
       ],
       "index": 0,
       "layout": "IPY_MODEL_006c0d6bdab445ed9513c0108a94acc9",
       "style": "IPY_MODEL_e789c3c766a54f6aa5965ef0a741b343"
      }
     },
     "71ba55e952bc432d9c1e83d85869fbb6": {
      "model_module": "@jupyter-widgets/base",
      "model_module_version": "1.0.0",
      "model_name": "LayoutModel",
      "state": {}
     },
     "759a9547dec0490f9781bc20905a542a": {
      "model_module": "@jupyter-widgets/controls",
      "model_module_version": "1.1.0",
      "model_name": "DropdownModel",
      "state": {
       "_options_labels": [
        "Carbamidomethylation of C",
        "None"
       ],
       "index": 0,
       "layout": "IPY_MODEL_5e967dd8495b44f7b8e0c25c7f77a648",
       "style": "IPY_MODEL_dc74a44f09934bbaa5e9671bc2956c06"
      }
     },
     "7f9e8115de004a38817feff8c26d532d": {
      "model_module": "@jupyter-widgets/base",
      "model_module_version": "1.0.0",
      "model_name": "LayoutModel",
      "state": {}
     },
     "8300aa906f5e44f89d1665b6ab2c191c": {
      "model_module": "@jupyter-widgets/controls",
      "model_module_version": "1.1.0",
      "model_name": "DescriptionStyleModel",
      "state": {
       "description_width": ""
      }
     },
     "8632e5f25c504c20815545e12451a07d": {
      "model_module": "@jupyter-widgets/controls",
      "model_module_version": "1.1.0",
      "model_name": "LabelModel",
      "state": {
       "layout": "IPY_MODEL_d1e6c54bebc44939839c23ebce162186",
       "style": "IPY_MODEL_4af07a1a596f42709f9c6087db11736c",
       "value": "Quantification method:"
      }
     },
     "86860e61005c4a87a488f1603913afdb": {
      "model_module": "@jupyter-widgets/base",
      "model_module_version": "1.0.0",
      "model_name": "LayoutModel",
      "state": {}
     },
     "8d40a0c2c6c74f1cb304fc58614439df": {
      "model_module": "@jupyter-widgets/base",
      "model_module_version": "1.0.0",
      "model_name": "LayoutModel",
      "state": {}
     },
     "94140d7596cd4f1da093b528b1602064": {
      "model_module": "@jupyter-widgets/controls",
      "model_module_version": "1.1.0",
      "model_name": "DescriptionStyleModel",
      "state": {
       "description_width": ""
      }
     },
     "952a9ec28d55455d9871f67cb8298102": {
      "model_module": "@jupyter-widgets/base",
      "model_module_version": "1.0.0",
      "model_name": "LayoutModel",
      "state": {}
     },
     "97546e8f97054188b851c46cf4504772": {
      "model_module": "@jupyter-widgets/base",
      "model_module_version": "1.0.0",
      "model_name": "LayoutModel",
      "state": {}
     },
     "9793d215fc064798b0d5141e5623f071": {
      "model_module": "@jupyter-widgets/controls",
      "model_module_version": "1.1.0",
      "model_name": "DescriptionStyleModel",
      "state": {
       "description_width": ""
      }
     },
     "99c9fc6c22db49b2a05a98e73122f3e3": {
      "model_module": "@jupyter-widgets/controls",
      "model_module_version": "1.1.0",
      "model_name": "LabelModel",
      "state": {
       "layout": "IPY_MODEL_17f5580f05c3462992b23330753f2349",
       "style": "IPY_MODEL_edc7e2e0be46481ab2f59904a45d2333",
       "value": "Number of miscleavages;"
      }
     },
     "a05afb66702443d1a6a5a7cd2823e312": {
      "model_module": "@jupyter-widgets/controls",
      "model_module_version": "1.1.0",
      "model_name": "BoundedFloatTextModel",
      "state": {
       "layout": "IPY_MODEL_46ccdc37769c400580fbb61a22d99d85",
       "max": 200,
       "step": null,
       "style": "IPY_MODEL_94140d7596cd4f1da093b528b1602064",
       "value": 0.05
      }
     },
     "b8079adb109246e6bcb5a54bba350b26": {
      "model_module": "@jupyter-widgets/controls",
      "model_module_version": "1.1.0",
      "model_name": "VBoxModel",
      "state": {
       "children": [
        "IPY_MODEL_1c43d93c7e7446cbbd37c0a3f65a8173",
        "IPY_MODEL_1a715686ce7c473aa2d2902f1f0aa6ae",
        "IPY_MODEL_f7552cdde9124b09bdf5c63f4671ad5c",
        "IPY_MODEL_a05afb66702443d1a6a5a7cd2823e312",
        "IPY_MODEL_fc3fd9fd93304dc196fb4c482dec10d7",
        "IPY_MODEL_1e06ec7b7e0a4c6f8dd50b698588dc8a",
        "IPY_MODEL_8632e5f25c504c20815545e12451a07d",
        "IPY_MODEL_6ddc43e660f24d2bb4f74cb0627c177a",
        "IPY_MODEL_99c9fc6c22db49b2a05a98e73122f3e3",
        "IPY_MODEL_3fdf8623c3654bc3a311b198285c12dc",
        "IPY_MODEL_42fe80e038e241edb86dda31e55826c5",
        "IPY_MODEL_759a9547dec0490f9781bc20905a542a",
        "IPY_MODEL_51e1b418477d474aa16fb37d49687abc",
        "IPY_MODEL_41aedf5b8f4f4d4fb3a4bc69b6ed1962",
        "IPY_MODEL_ef224f3903f248df85d134af7617d6d6",
        "IPY_MODEL_26658e256d08427697b62931ca6dfc91"
       ],
       "layout": "IPY_MODEL_71ba55e952bc432d9c1e83d85869fbb6"
      }
     },
     "bcc46d0973a345bd800c241d0c40bba3": {
      "model_module": "@jupyter-widgets/base",
      "model_module_version": "1.0.0",
      "model_name": "LayoutModel",
      "state": {}
     },
     "d1e6c54bebc44939839c23ebce162186": {
      "model_module": "@jupyter-widgets/base",
      "model_module_version": "1.0.0",
      "model_name": "LayoutModel",
      "state": {}
     },
     "dc74a44f09934bbaa5e9671bc2956c06": {
      "model_module": "@jupyter-widgets/controls",
      "model_module_version": "1.1.0",
      "model_name": "DescriptionStyleModel",
      "state": {
       "description_width": ""
      }
     },
     "e05f1500d9ce4052afbcae6542621b10": {
      "model_module": "@jupyter-widgets/controls",
      "model_module_version": "1.1.0",
      "model_name": "DescriptionStyleModel",
      "state": {
       "description_width": ""
      }
     },
     "e209b12adf2546b690281df4824e136a": {
      "model_module": "@jupyter-widgets/base",
      "model_module_version": "1.0.0",
      "model_name": "LayoutModel",
      "state": {}
     },
     "e789c3c766a54f6aa5965ef0a741b343": {
      "model_module": "@jupyter-widgets/controls",
      "model_module_version": "1.1.0",
      "model_name": "DescriptionStyleModel",
      "state": {
       "description_width": ""
      }
     },
     "edc7e2e0be46481ab2f59904a45d2333": {
      "model_module": "@jupyter-widgets/controls",
      "model_module_version": "1.1.0",
      "model_name": "DescriptionStyleModel",
      "state": {
       "description_width": ""
      }
     },
     "ef224f3903f248df85d134af7617d6d6": {
      "model_module": "@jupyter-widgets/controls",
      "model_module_version": "1.1.0",
      "model_name": "LabelModel",
      "state": {
       "layout": "IPY_MODEL_f7508e2e57b24b99a70cf0c378a51646",
       "style": "IPY_MODEL_1e3ec101d8b341ffbf8a6a2beabd8359",
       "value": "Folder for spectra files (files need to be mgf)"
      }
     },
     "f7508e2e57b24b99a70cf0c378a51646": {
      "model_module": "@jupyter-widgets/base",
      "model_module_version": "1.0.0",
      "model_name": "LayoutModel",
      "state": {}
     },
     "f7552cdde9124b09bdf5c63f4671ad5c": {
      "model_module": "@jupyter-widgets/controls",
      "model_module_version": "1.1.0",
      "model_name": "LabelModel",
      "state": {
       "layout": "IPY_MODEL_bcc46d0973a345bd800c241d0c40bba3",
       "style": "IPY_MODEL_e05f1500d9ce4052afbcae6542621b10",
       "value": "Fragment ion tolerance (da):"
      }
     },
     "fa112850065f4a7f877b6b7367ed5033": {
      "model_module": "@jupyter-widgets/controls",
      "model_module_version": "1.1.0",
      "model_name": "CheckboxModel",
      "state": {
       "description": "Decoy",
       "disabled": false,
       "layout": "IPY_MODEL_622a973c66674f1db846bba40719ded3",
       "style": "IPY_MODEL_4f0ffd76fc30424899fec38160888119",
       "value": false
      }
     },
     "fc3fd9fd93304dc196fb4c482dec10d7": {
      "model_module": "@jupyter-widgets/controls",
      "model_module_version": "1.1.0",
      "model_name": "LabelModel",
      "state": {
       "layout": "IPY_MODEL_952a9ec28d55455d9871f67cb8298102",
       "style": "IPY_MODEL_9793d215fc064798b0d5141e5623f071",
       "value": "Fasta file (database):"
      }
     },
     "fdb1fc49cad94d3db1b3008b51b330ba": {
      "model_module": "@jupyter-widgets/controls",
      "model_module_version": "1.1.0",
      "model_name": "DescriptionStyleModel",
      "state": {
       "description_width": ""
      }
     }
    },
    "version_major": 2,
    "version_minor": 0
   }
  }
 },
 "nbformat": 4,
 "nbformat_minor": 2
}
