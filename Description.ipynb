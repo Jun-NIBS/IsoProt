{
 "cells": [
  {
   "cell_type": "markdown",
   "metadata": {},
   "source": [
    "# Detailed description of software protocol\n",
    "## A fully reproducible one-stop-shop for the analysis of iTRAQ/TMT data\n",
    "\n",
    "### Folders\n",
    "TODO\n",
    "\n",
    "### Parameters\n",
    "#### Folders and database search\n",
    "*Folder for spectra files (files need to be mgf) and fasta database:* \n",
    "We allow the folder _IN_ and _data_ where the latter is automatically mapped to the directory from which IsoLabeledProtocol is called (when using _run.sh_ or _run.bat_). The folder should contain the spectra files and a database of protein sequences given in a FASTA file. \n",
    "Raw files (e.g. Thermo raw files) can be converted into mgf using the msconvert tool of [ProteoWizard](http://proteowizard.sourceforge.net/tools.shtml). This requires a Windows computer. Files from different MS runs should be organized in folders as illustrated in Figure 1.\n",
    "\n",
    "\n",
    "\n",
    "\n",
    "\n",
    "\n",
    "![Illustration of folder structure](misc/ExperimentalDesigns.svg)\n",
    "**Figure 1**: Illustration of experimental designs and folder structure.\n",
    "\n",
    "\n",
    "\n",
    "#### Database search\n",
    "*Fasta file*: Select from FASTA files in the above given folder.\n",
    "The sequence headers of the file should be formatted in a [UniProt](http://uniprot.org)-like format. See more details on a suitable version of the FASTA format in the [SearchGUI documentation](https://github.com/compomics/searchgui/wiki/DatabaseHelp). Do not provide decoy sequences as they will be created automatically.\n",
    "\n",
    "*Precursor tolerance (ppm)*: MS tolerance in parts per million\n",
    "\n",
    "*Fragment ion tolerance (da)*: MSn tolerance in Dalton\n",
    "\n",
    "*Number of miscleavages*\n",
    "\n",
    "*Further fixed modifications*: Select Carbamidomethylation or None. iTRAQ and TMT labels as fixed modifications are added separately\n",
    "\n",
    "*Further variable modifications (Hold Ctrl to select multiple)*: Select variable modifications for the database search. Modified sequences will be used in the quantification and summarization of the proteins.\n",
    "\n",
    "*Target (protein, peptide, and PSM) FDR*: False discovery rate for the peptide identifications.\n",
    "\n",
    "*Quantification method*: Labelling method used in the experiment (iTRAQ/TMT)\n",
    "\n",
    "*Number of different conditions*: Number of different types of samples (e.g. time points, treatments, cell types). This parameter is needed to assign sample types to the different labeling channels.\n",
    "\n",
    "\n",
    "\n",
    "\n",
    "#### Experimental design\n",
    "\n",
    "#### Quantitative analysis\n",
    "\n",
    "\n",
    "\n",
    "### Output files and figures\n",
    "\n",
    "\n",
    "### Code structure and scripts\n",
    "#### Access\n",
    "\n",
    "#### Parameter interface\n",
    "\n",
    "#### R scripts\n"
   ]
  },
  {
   "cell_type": "code",
   "execution_count": null,
   "metadata": {},
   "outputs": [],
   "source": []
  }
 ],
 "metadata": {
  "kernelspec": {
   "display_name": "Python 3",
   "language": "python",
   "name": "python3"
  },
  "language_info": {
   "codemirror_mode": {
    "name": "ipython",
    "version": 3
   },
   "file_extension": ".py",
   "mimetype": "text/x-python",
   "name": "python",
   "nbconvert_exporter": "python",
   "pygments_lexer": "ipython3",
   "version": "3.5.2"
  }
 },
 "nbformat": 4,
 "nbformat_minor": 2
}
