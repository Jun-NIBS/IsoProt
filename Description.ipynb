{
 "cells": [
  {
   "cell_type": "markdown",
   "metadata": {},
   "source": [
    "# Detailed description of software protocol\n",
    "## A fully reproducible one-stop-shop for the analysis of iTRAQ/TMT data\n",
    "\n",
    "### Introduction\n",
    "\n",
    "### Methods\n",
    "#### Software \n",
    "#### Pipeline\n",
    "#### Quality control\n",
    "\n",
    "### Results\n",
    "#### Funcionality\n",
    "#### Example workflow\n",
    "\n",
    "### Discussion \n"
   ]
  },
  {
   "cell_type": "code",
   "execution_count": null,
   "metadata": {},
   "outputs": [],
   "source": []
  }
 ],
 "metadata": {
  "kernelspec": {
   "display_name": "Python 3",
   "language": "python",
   "name": "python3"
  },
  "language_info": {
   "codemirror_mode": {
    "name": "ipython",
    "version": 3
   },
   "file_extension": ".py",
   "mimetype": "text/x-python",
   "name": "python",
   "nbconvert_exporter": "python",
   "pygments_lexer": "ipython3",
   "version": "3.5.2"
  }
 },
 "nbformat": 4,
 "nbformat_minor": 2
}
